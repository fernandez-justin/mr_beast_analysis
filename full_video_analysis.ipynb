{
 "cells": [
  {
   "cell_type": "code",
   "execution_count": 1,
   "metadata": {},
   "outputs": [],
   "source": [
    "import json\n",
    "import pandas as pd\n",
    "import numpy as np\n",
    "import matplotlib.pyplot as plt"
   ]
  },
  {
   "cell_type": "code",
   "execution_count": 3,
   "metadata": {},
   "outputs": [],
   "source": [
    "video_json_1 = open('video_api_data_full\\\\full_videos_output_1_50.json')\n",
    "video_json_2 = open('video_api_data_full\\\\full_videos_output_51_100.json')"
   ]
  },
  {
   "cell_type": "code",
   "execution_count": 4,
   "metadata": {},
   "outputs": [],
   "source": [
    "video_data_1 = json.load(video_json_1)\n",
    "video_data_2 = json.load(video_json_2)"
   ]
  },
  {
   "cell_type": "code",
   "execution_count": 5,
   "metadata": {},
   "outputs": [
    {
     "name": "stdout",
     "output_type": "stream",
     "text": [
      "50\n",
      "50\n"
     ]
    }
   ],
   "source": [
    "print(len(video_data_1['items']))\n",
    "print(len(video_data_2['items']))"
   ]
  },
  {
   "cell_type": "code",
   "execution_count": 6,
   "metadata": {},
   "outputs": [
    {
     "data": {
      "text/plain": [
       "{'id': 'TJ2ifmkGGus',\n",
       " 'snippet': {'publishedAt': '2023-01-28T21:00:00Z',\n",
       "  'title': '1,000 Blind People See For The First Time'},\n",
       " 'contentDetails': {'duration': 'PT8M1S'},\n",
       " 'statistics': {'viewCount': '101200476',\n",
       "  'likeCount': '8229283',\n",
       "  'favoriteCount': '0',\n",
       "  'commentCount': '343887'}}"
      ]
     },
     "execution_count": 6,
     "metadata": {},
     "output_type": "execute_result"
    }
   ],
   "source": [
    "video_data_1['items'][0]"
   ]
  },
  {
   "cell_type": "code",
   "execution_count": 7,
   "metadata": {},
   "outputs": [],
   "source": [
    "columns = [\n",
    "    'id'\n",
    "    , 'title'\n",
    "    , 'publishedAt'\n",
    "    , 'duration'\n",
    "    , 'viewCount'\n",
    "    , 'likeCount'\n",
    "    , 'favoriteCount'\n",
    "    , 'commentCount'\n",
    "]\n",
    "df = pd.DataFrame(columns=columns)"
   ]
  },
  {
   "cell_type": "code",
   "execution_count": 8,
   "metadata": {},
   "outputs": [
    {
     "data": {
      "text/html": [
       "<div>\n",
       "<style scoped>\n",
       "    .dataframe tbody tr th:only-of-type {\n",
       "        vertical-align: middle;\n",
       "    }\n",
       "\n",
       "    .dataframe tbody tr th {\n",
       "        vertical-align: top;\n",
       "    }\n",
       "\n",
       "    .dataframe thead th {\n",
       "        text-align: right;\n",
       "    }\n",
       "</style>\n",
       "<table border=\"1\" class=\"dataframe\">\n",
       "  <thead>\n",
       "    <tr style=\"text-align: right;\">\n",
       "      <th></th>\n",
       "      <th>id</th>\n",
       "      <th>title</th>\n",
       "      <th>publishedAt</th>\n",
       "      <th>duration</th>\n",
       "      <th>viewCount</th>\n",
       "      <th>likeCount</th>\n",
       "      <th>favoriteCount</th>\n",
       "      <th>commentCount</th>\n",
       "    </tr>\n",
       "  </thead>\n",
       "  <tbody>\n",
       "    <tr>\n",
       "      <th>99</th>\n",
       "      <td>TJ2ifmkGGus</td>\n",
       "      <td>1,000 Blind People See For The First Time</td>\n",
       "      <td>2023-01-28T21:00:00Z</td>\n",
       "      <td>PT8M1S</td>\n",
       "      <td>101200476</td>\n",
       "      <td>8229283</td>\n",
       "      <td>0</td>\n",
       "      <td>343887</td>\n",
       "    </tr>\n",
       "    <tr>\n",
       "      <th>98</th>\n",
       "      <td>7IKab3HcfFk</td>\n",
       "      <td>I Survived 50 Hours In Antarctica</td>\n",
       "      <td>2022-12-24T20:59:59Z</td>\n",
       "      <td>PT12M10S</td>\n",
       "      <td>92959825</td>\n",
       "      <td>3884374</td>\n",
       "      <td>0</td>\n",
       "      <td>148754</td>\n",
       "    </tr>\n",
       "    <tr>\n",
       "      <th>97</th>\n",
       "      <td>h5NvTTOlOtI</td>\n",
       "      <td>Hydraulic Press Vs Lamborghini</td>\n",
       "      <td>2022-12-10T21:00:01Z</td>\n",
       "      <td>PT10M25S</td>\n",
       "      <td>110172252</td>\n",
       "      <td>4380170</td>\n",
       "      <td>0</td>\n",
       "      <td>126247</td>\n",
       "    </tr>\n",
       "    <tr>\n",
       "      <th>96</th>\n",
       "      <td>0CTp1a-aCUM</td>\n",
       "      <td>100 Kids Vs 100 Adults For $500,000</td>\n",
       "      <td>2022-12-03T21:00:00Z</td>\n",
       "      <td>PT15M23S</td>\n",
       "      <td>111342807</td>\n",
       "      <td>3173246</td>\n",
       "      <td>0</td>\n",
       "      <td>93033</td>\n",
       "    </tr>\n",
       "    <tr>\n",
       "      <th>95</th>\n",
       "      <td>kX3nB4PpJko</td>\n",
       "      <td>Last To Take Hand Off Jet, Keeps It!</td>\n",
       "      <td>2022-11-12T21:00:00Z</td>\n",
       "      <td>PT15M37S</td>\n",
       "      <td>90459418</td>\n",
       "      <td>3321630</td>\n",
       "      <td>0</td>\n",
       "      <td>104820</td>\n",
       "    </tr>\n",
       "    <tr>\n",
       "      <th>...</th>\n",
       "      <td>...</td>\n",
       "      <td>...</td>\n",
       "      <td>...</td>\n",
       "      <td>...</td>\n",
       "      <td>...</td>\n",
       "      <td>...</td>\n",
       "      <td>...</td>\n",
       "      <td>...</td>\n",
       "    </tr>\n",
       "    <tr>\n",
       "      <th>4</th>\n",
       "      <td>npDey6_9YRs</td>\n",
       "      <td>Anything You Can Carry, I'll Pay For #2</td>\n",
       "      <td>2019-09-06T20:00:00Z</td>\n",
       "      <td>PT13M59S</td>\n",
       "      <td>59934814</td>\n",
       "      <td>1408789</td>\n",
       "      <td>0</td>\n",
       "      <td>33543</td>\n",
       "    </tr>\n",
       "    <tr>\n",
       "      <th>3</th>\n",
       "      <td>0NGWT9COcEI</td>\n",
       "      <td>I Gave My Brother 24 Hours To Spend $100,000</td>\n",
       "      <td>2019-08-31T20:00:01Z</td>\n",
       "      <td>PT13M8S</td>\n",
       "      <td>73061980</td>\n",
       "      <td>2101333</td>\n",
       "      <td>0</td>\n",
       "      <td>56995</td>\n",
       "    </tr>\n",
       "    <tr>\n",
       "      <th>2</th>\n",
       "      <td>3LLnjRLrvLU</td>\n",
       "      <td>I Opened A Free Car Dealership</td>\n",
       "      <td>2019-08-29T20:00:00Z</td>\n",
       "      <td>PT16M39S</td>\n",
       "      <td>112273538</td>\n",
       "      <td>3150385</td>\n",
       "      <td>0</td>\n",
       "      <td>139333</td>\n",
       "    </tr>\n",
       "    <tr>\n",
       "      <th>1</th>\n",
       "      <td>bTrV5v7GLcQ</td>\n",
       "      <td>Last To Leave Pool Of $20,000 Keeps It</td>\n",
       "      <td>2019-08-24T20:00:01Z</td>\n",
       "      <td>PT16M39S</td>\n",
       "      <td>139714054</td>\n",
       "      <td>2838142</td>\n",
       "      <td>0</td>\n",
       "      <td>82780</td>\n",
       "    </tr>\n",
       "    <tr>\n",
       "      <th>0</th>\n",
       "      <td>lBYC4_Lccjw</td>\n",
       "      <td>Surviving 24 Hours On A Deserted Island</td>\n",
       "      <td>2019-08-22T20:00:07Z</td>\n",
       "      <td>PT13M52S</td>\n",
       "      <td>143761756</td>\n",
       "      <td>2906047</td>\n",
       "      <td>0</td>\n",
       "      <td>77734</td>\n",
       "    </tr>\n",
       "  </tbody>\n",
       "</table>\n",
       "<p>100 rows × 8 columns</p>\n",
       "</div>"
      ],
      "text/plain": [
       "             id                                         title  \\\n",
       "99  TJ2ifmkGGus     1,000 Blind People See For The First Time   \n",
       "98  7IKab3HcfFk             I Survived 50 Hours In Antarctica   \n",
       "97  h5NvTTOlOtI                Hydraulic Press Vs Lamborghini   \n",
       "96  0CTp1a-aCUM           100 Kids Vs 100 Adults For $500,000   \n",
       "95  kX3nB4PpJko          Last To Take Hand Off Jet, Keeps It!   \n",
       "..          ...                                           ...   \n",
       "4   npDey6_9YRs       Anything You Can Carry, I'll Pay For #2   \n",
       "3   0NGWT9COcEI  I Gave My Brother 24 Hours To Spend $100,000   \n",
       "2   3LLnjRLrvLU                I Opened A Free Car Dealership   \n",
       "1   bTrV5v7GLcQ        Last To Leave Pool Of $20,000 Keeps It   \n",
       "0   lBYC4_Lccjw       Surviving 24 Hours On A Deserted Island   \n",
       "\n",
       "             publishedAt  duration  viewCount likeCount favoriteCount  \\\n",
       "99  2023-01-28T21:00:00Z    PT8M1S  101200476   8229283             0   \n",
       "98  2022-12-24T20:59:59Z  PT12M10S   92959825   3884374             0   \n",
       "97  2022-12-10T21:00:01Z  PT10M25S  110172252   4380170             0   \n",
       "96  2022-12-03T21:00:00Z  PT15M23S  111342807   3173246             0   \n",
       "95  2022-11-12T21:00:00Z  PT15M37S   90459418   3321630             0   \n",
       "..                   ...       ...        ...       ...           ...   \n",
       "4   2019-09-06T20:00:00Z  PT13M59S   59934814   1408789             0   \n",
       "3   2019-08-31T20:00:01Z   PT13M8S   73061980   2101333             0   \n",
       "2   2019-08-29T20:00:00Z  PT16M39S  112273538   3150385             0   \n",
       "1   2019-08-24T20:00:01Z  PT16M39S  139714054   2838142             0   \n",
       "0   2019-08-22T20:00:07Z  PT13M52S  143761756   2906047             0   \n",
       "\n",
       "   commentCount  \n",
       "99       343887  \n",
       "98       148754  \n",
       "97       126247  \n",
       "96        93033  \n",
       "95       104820  \n",
       "..          ...  \n",
       "4         33543  \n",
       "3         56995  \n",
       "2        139333  \n",
       "1         82780  \n",
       "0         77734  \n",
       "\n",
       "[100 rows x 8 columns]"
      ]
     },
     "execution_count": 8,
     "metadata": {},
     "output_type": "execute_result"
    }
   ],
   "source": [
    "\n",
    "\n",
    "for video_data in [video_data_1,video_data_2]:\n",
    "    for item in video_data['items']:\n",
    "        df.loc[-1] = [\n",
    "            item['id']\n",
    "            , item['snippet']['title']\n",
    "            , item['snippet']['publishedAt']\n",
    "            , item['contentDetails']['duration']\n",
    "            , item['statistics']['viewCount']\n",
    "            , item['statistics']['likeCount']\n",
    "            , item['statistics']['favoriteCount']\n",
    "            , item['statistics']['commentCount']\n",
    "        ]\n",
    "        df.index = df.index + 1\n",
    "\n",
    "df"
   ]
  },
  {
   "cell_type": "code",
   "execution_count": 25,
   "metadata": {},
   "outputs": [],
   "source": [
    "ids = 'TJ2ifmkGGus,7IKab3HcfFk,h5NvTTOlOtI,0CTp1a-aCUM,kX3nB4PpJko,iogcY_4xGjo,gHzuabZUd6c,65fN_OUawjk,jdMNoQE3mIQ,2isYuQZMbdU,tVWWp1PqDus,vaIgyRoUkQI,Hwybp38GnZw,hD1YtmKXNb4,LnlKwzc_TNA,3jS_yEK8qVI,00NgUctWoLQ,x9TQ6culXIA,QbJJwaVdgIs,cV2gBU6hKfY,qIsgdOVGA04,cExLQ1o2pDw,uocETPj4Jx4,zxYjTTXc-J8,hxwpkM5w3Cc,ktyJIj6i4Qw,urtFrxDUV6c,nM89Wl03Q4g,NZlClr_ivb4,E6E22XQPhhg,TQHEJj68Jew,WcwGleN38zE,fMfipiV_17o,ayXxwJJId_c,9bqk6ZUsKyA,DuQbOQwVaNE,vJH28ICkCdU,_uwNDiU04zE,C680oxL__ck,5Fg9oZk-5uA,PKtnafFtfEo,f0c7pSCoZqE,dg2Ag3e8W-Q,LeYsRMZFUq0,Dc2ZRmuH5OM,GLoeAJUcz38,SZQhgExjBvQ,IoZri9hq7z4,vp5sSqyZ5Go,Vl3swga-Xrk,UE5AHE2Ypr8,TDiXxsQ0w2Q,oD155zWANQg,s1ax8Tx_Jz0,FbM1yi4mMMc,5V2B28OqfqM,Rj_vssRaZlQ,YQDDm9HLkV4,erQ_9yEz0ls,OAbP-V6fEVc,_qAJMXfL6o0,59AYXzCa-Cs,r7zJ8srwwjk,YSoJPA8-oHc,5Hg_QSIJm8I,gsWPpE4Rid0,HBMmK1c44sE,oBYbxw8f5OI,AiGKBNGlzHo,_mdKvblL_8s,F4Y3Pkn95GI,KSKJKLmAqpI,IYVjOfoU3uI,oI6aXhowFDY,LdMx2U5tby0,Z9WQy9jEY8M,bs0SWXbty18,yeqARWqjkps,wMuYiLby3-s,NbaWrbJDr48,sfv1QaRzJg8,RwnN2FVaHmw,X1jMMFOqxEw,ORUX1lHbOa8,LU_xVr4b2qM,tQ4m4zD7BBA,D9lVNzyhYnc,jokVbbLqV_E,HPJKxAhLw5I,Ims5p6wjW9s,anFxsa5jXrE,QxGVgXf_LNk,al6130OD1Ck,d1010B3sKNQ,NS3hse9ezik,npDey6_9YRs,0NGWT9COcEI,3LLnjRLrvLU,bTrV5v7GLcQ,lBYC4_Lccjw'"
   ]
  },
  {
   "cell_type": "code",
   "execution_count": 26,
   "metadata": {},
   "outputs": [],
   "source": [
    "id_list = ids.split(',')"
   ]
  },
  {
   "cell_type": "code",
   "execution_count": 27,
   "metadata": {},
   "outputs": [
    {
     "data": {
      "text/plain": [
       "100"
      ]
     },
     "execution_count": 27,
     "metadata": {},
     "output_type": "execute_result"
    }
   ],
   "source": [
    "len(id_list)"
   ]
  },
  {
   "cell_type": "code",
   "execution_count": null,
   "metadata": {},
   "outputs": [],
   "source": []
  }
 ],
 "metadata": {
  "kernelspec": {
   "display_name": "Python 3",
   "language": "python",
   "name": "python3"
  },
  "language_info": {
   "codemirror_mode": {
    "name": "ipython",
    "version": 3
   },
   "file_extension": ".py",
   "mimetype": "text/x-python",
   "name": "python",
   "nbconvert_exporter": "python",
   "pygments_lexer": "ipython3",
   "version": "3.9.13"
  },
  "orig_nbformat": 4,
  "vscode": {
   "interpreter": {
    "hash": "70f9c32967fb33f3823b8d7f5601daa442546b38ccf06ae11297afe8c6a15b40"
   }
  }
 },
 "nbformat": 4,
 "nbformat_minor": 2
}
