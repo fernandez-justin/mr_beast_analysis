{
 "cells": [
  {
   "attachments": {},
   "cell_type": "markdown",
   "metadata": {},
   "source": [
    "# Imports"
   ]
  },
  {
   "cell_type": "code",
   "execution_count": 2,
   "metadata": {},
   "outputs": [],
   "source": [
    "import json\n",
    "import pandas as pd\n",
    "import numpy as np\n",
    "import matplotlib.pyplot as plt"
   ]
  },
  {
   "attachments": {},
   "cell_type": "markdown",
   "metadata": {},
   "source": [
    "# Creating DF"
   ]
  },
  {
   "cell_type": "code",
   "execution_count": 3,
   "metadata": {},
   "outputs": [],
   "source": [
    "\n",
    "columns = [\n",
    "    'id'\n",
    "    , 'title'\n",
    "    , 'publishedAt'\n",
    "    , 'duration'\n",
    "    , 'viewCount'\n",
    "    , 'likeCount'\n",
    "    , 'commentCount'\n",
    "]\n",
    "df = pd.DataFrame(columns=columns)"
   ]
  },
  {
   "cell_type": "code",
   "execution_count": 4,
   "metadata": {},
   "outputs": [],
   "source": [
    "video_array = [\n",
    "    'video_api_data_full\\\\full_videos_output_1_50.json'\n",
    "    , 'video_api_data_full\\\\full_videos_output_51_100.json'\n",
    "    , 'video_api_data_full\\\\full_videos_output_101_150.json'\n",
    "    , 'video_api_data_full\\\\full_videos_output_all_long.json'\n",
    "]\n",
    "for file_name in video_array:\n",
    "    #print('Done')\n",
    "    video_data_file = open(file_name)\n",
    "    video_data = json.load(video_data_file)\n",
    "    for item in video_data['items']:\n",
    "        try:\n",
    "            df.loc[-1] = [\n",
    "                item['id']\n",
    "                , item['snippet']['title']\n",
    "                , item['snippet']['publishedAt']\n",
    "                , item['contentDetails']['duration']\n",
    "                , item['statistics']['viewCount']\n",
    "                , item['statistics']['likeCount']\n",
    "                , item['statistics']['commentCount']\n",
    "            ]\n",
    "        except:\n",
    "            df.loc[-1] = [\n",
    "                item['id']\n",
    "                , item['snippet']['title']\n",
    "                , item['snippet']['publishedAt']\n",
    "                , item['contentDetails']['duration']\n",
    "                , item['statistics']['viewCount']\n",
    "                , item['statistics']['likeCount']\n",
    "                , 0 # Watching Dance Till You're Dead For 10 Hours - HAS NO COMMENTS\n",
    "            ]\n",
    "        df.index = df.index + 1"
   ]
  },
  {
   "cell_type": "code",
   "execution_count": 5,
   "metadata": {},
   "outputs": [],
   "source": [
    "import re\n",
    "from dateutil import parser\n",
    "\n",
    "# test = df['duration'][0]\n",
    "\n",
    "# print(re.findall(r'(?:PT)(\\d*)(?:M)(\\d*)(?:S)', test))\n",
    "#print(re.findall(r'\\d+', test))\n",
    "def duration_to_seconds(item):\n",
    "    h_m_s = re.findall(r'PT(\\d+H)?(\\d+M)?(\\d+S)?', item)\n",
    "    #print(h_m_s)\n",
    "    try:\n",
    "        hrs = int(h_m_s[0][0][:-1])\n",
    "    except:\n",
    "        hrs = 0\n",
    "    try:\n",
    "        mins = int(h_m_s[0][1][:-1])\n",
    "    except:\n",
    "        mins = 0\n",
    "    try:\n",
    "        secs = int(h_m_s[0][2][:-1])\n",
    "    except:\n",
    "        secs = 0\n",
    "    return (hrs*(60*60))+(mins*60)+secs\n",
    "\n",
    "def duration_to_minutes(item):\n",
    "    return item/60\n",
    "\n",
    "def duration_to_hours(item):\n",
    "    return item/(60*60)\n",
    "\n",
    "def published_at_datetime(item):\n",
    "    return parser.parse(item)\n",
    "\n",
    "\n",
    "\n",
    "df['seconds'] = df['duration'].apply(lambda x: duration_to_seconds(x))\n",
    "df['minutes'] = df['seconds'].apply(lambda x: duration_to_minutes(x))\n",
    "df['hours'] = df['seconds'].apply(lambda x: duration_to_hours(x))\n",
    "df['publishedAt'] = df['publishedAt'].apply(lambda x: published_at_datetime(x))"
   ]
  },
  {
   "cell_type": "code",
   "execution_count": 6,
   "metadata": {},
   "outputs": [],
   "source": [
    "df['viewCount'] = df['viewCount'].astype(int)\n",
    "df['likeCount'] = df['likeCount'].astype(int)\n",
    "df['commentCount'] = df['commentCount'].astype(int)"
   ]
  },
  {
   "attachments": {},
   "cell_type": "markdown",
   "metadata": {},
   "source": [
    "# EDA\n",
    "\n",
    "### CUTTING TO ONLY 100 LATEST VIDEOS\n",
    "\n",
    "We are only using videos longer than 4 minutes becuase the YouTube Api starts to pull shorts if you get all \"short\" video ids from a channel"
   ]
  },
  {
   "cell_type": "code",
   "execution_count": 7,
   "metadata": {},
   "outputs": [],
   "source": [
    "df.sort_values(by='publishedAt',ascending=False,inplace=True)\n",
    "df = df.iloc[0:100,:]"
   ]
  },
  {
   "attachments": {},
   "cell_type": "markdown",
   "metadata": {},
   "source": [
    "# Column Creation"
   ]
  },
  {
   "cell_type": "code",
   "execution_count": 8,
   "metadata": {},
   "outputs": [],
   "source": [
    "df['I_is_first_in_title'] = df['title'].apply(lambda x: 1 if str.lower(x[0])=='i' else 0)\n",
    "df['money_in_title'] = df['title'].apply(lambda x: 1 if \"$\" in x else 0)\n",
    "df['minutes_round'] = np.round(df['minutes'])\n",
    "df['longer_than_5_mins'] = df['minutes'].apply(lambda x: 1 if x>5 else 0)\n",
    "df['longer_than_10_mins'] = df['minutes'].apply(lambda x: 1 if x>10 else 0)\n",
    "df['longer_than_15_mins'] = df['minutes'].apply(lambda x: 1 if x>15 else 0)\n",
    "df['longer_than_20_mins'] = df['minutes'].apply(lambda x: 1 if x>20 else 0)\n",
    "df['viewCountMillions'] = df['viewCount'] / 1000000"
   ]
  },
  {
   "cell_type": "code",
   "execution_count": 9,
   "metadata": {},
   "outputs": [
    {
     "data": {
      "text/html": [
       "<div>\n",
       "<style scoped>\n",
       "    .dataframe tbody tr th:only-of-type {\n",
       "        vertical-align: middle;\n",
       "    }\n",
       "\n",
       "    .dataframe tbody tr th {\n",
       "        vertical-align: top;\n",
       "    }\n",
       "\n",
       "    .dataframe thead th {\n",
       "        text-align: right;\n",
       "    }\n",
       "</style>\n",
       "<table border=\"1\" class=\"dataframe\">\n",
       "  <thead>\n",
       "    <tr style=\"text-align: right;\">\n",
       "      <th></th>\n",
       "      <th>viewCount</th>\n",
       "      <th>likeCount</th>\n",
       "      <th>commentCount</th>\n",
       "      <th>seconds</th>\n",
       "      <th>minutes</th>\n",
       "      <th>hours</th>\n",
       "      <th>I_is_first_in_title</th>\n",
       "      <th>money_in_title</th>\n",
       "      <th>minutes_round</th>\n",
       "      <th>longer_than_5_mins</th>\n",
       "      <th>longer_than_10_mins</th>\n",
       "      <th>longer_than_15_mins</th>\n",
       "      <th>longer_than_20_mins</th>\n",
       "      <th>viewCountMillions</th>\n",
       "    </tr>\n",
       "  </thead>\n",
       "  <tbody>\n",
       "    <tr>\n",
       "      <th>count</th>\n",
       "      <td>1.000000e+02</td>\n",
       "      <td>1.000000e+02</td>\n",
       "      <td>100.000000</td>\n",
       "      <td>100.00000</td>\n",
       "      <td>100.000000</td>\n",
       "      <td>100.000000</td>\n",
       "      <td>100.000000</td>\n",
       "      <td>100.000000</td>\n",
       "      <td>100.000000</td>\n",
       "      <td>100.00</td>\n",
       "      <td>100.000000</td>\n",
       "      <td>100.000000</td>\n",
       "      <td>100.000000</td>\n",
       "      <td>100.000000</td>\n",
       "    </tr>\n",
       "    <tr>\n",
       "      <th>mean</th>\n",
       "      <td>1.235171e+08</td>\n",
       "      <td>3.531127e+06</td>\n",
       "      <td>130303.310000</td>\n",
       "      <td>839.37000</td>\n",
       "      <td>13.989500</td>\n",
       "      <td>0.233158</td>\n",
       "      <td>0.440000</td>\n",
       "      <td>0.470000</td>\n",
       "      <td>13.970000</td>\n",
       "      <td>0.99</td>\n",
       "      <td>0.880000</td>\n",
       "      <td>0.410000</td>\n",
       "      <td>0.040000</td>\n",
       "      <td>123.517140</td>\n",
       "    </tr>\n",
       "    <tr>\n",
       "      <th>std</th>\n",
       "      <td>5.159789e+07</td>\n",
       "      <td>1.701615e+06</td>\n",
       "      <td>97917.697648</td>\n",
       "      <td>228.22918</td>\n",
       "      <td>3.803820</td>\n",
       "      <td>0.063397</td>\n",
       "      <td>0.498888</td>\n",
       "      <td>0.501614</td>\n",
       "      <td>3.817702</td>\n",
       "      <td>0.10</td>\n",
       "      <td>0.326599</td>\n",
       "      <td>0.494311</td>\n",
       "      <td>0.196946</td>\n",
       "      <td>51.597894</td>\n",
       "    </tr>\n",
       "    <tr>\n",
       "      <th>min</th>\n",
       "      <td>4.114869e+07</td>\n",
       "      <td>1.240570e+06</td>\n",
       "      <td>30945.000000</td>\n",
       "      <td>295.00000</td>\n",
       "      <td>4.916667</td>\n",
       "      <td>0.081944</td>\n",
       "      <td>0.000000</td>\n",
       "      <td>0.000000</td>\n",
       "      <td>5.000000</td>\n",
       "      <td>0.00</td>\n",
       "      <td>0.000000</td>\n",
       "      <td>0.000000</td>\n",
       "      <td>0.000000</td>\n",
       "      <td>41.148686</td>\n",
       "    </tr>\n",
       "    <tr>\n",
       "      <th>25%</th>\n",
       "      <td>9.198210e+07</td>\n",
       "      <td>2.663371e+06</td>\n",
       "      <td>81896.250000</td>\n",
       "      <td>704.00000</td>\n",
       "      <td>11.733333</td>\n",
       "      <td>0.195556</td>\n",
       "      <td>0.000000</td>\n",
       "      <td>0.000000</td>\n",
       "      <td>12.000000</td>\n",
       "      <td>1.00</td>\n",
       "      <td>1.000000</td>\n",
       "      <td>0.000000</td>\n",
       "      <td>0.000000</td>\n",
       "      <td>91.982096</td>\n",
       "    </tr>\n",
       "    <tr>\n",
       "      <th>50%</th>\n",
       "      <td>1.177169e+08</td>\n",
       "      <td>3.357315e+06</td>\n",
       "      <td>109988.000000</td>\n",
       "      <td>841.00000</td>\n",
       "      <td>14.016667</td>\n",
       "      <td>0.233611</td>\n",
       "      <td>0.000000</td>\n",
       "      <td>0.000000</td>\n",
       "      <td>14.000000</td>\n",
       "      <td>1.00</td>\n",
       "      <td>1.000000</td>\n",
       "      <td>0.000000</td>\n",
       "      <td>0.000000</td>\n",
       "      <td>117.716871</td>\n",
       "    </tr>\n",
       "    <tr>\n",
       "      <th>75%</th>\n",
       "      <td>1.479530e+08</td>\n",
       "      <td>4.130260e+06</td>\n",
       "      <td>147747.000000</td>\n",
       "      <td>947.25000</td>\n",
       "      <td>15.787500</td>\n",
       "      <td>0.263125</td>\n",
       "      <td>1.000000</td>\n",
       "      <td>1.000000</td>\n",
       "      <td>16.000000</td>\n",
       "      <td>1.00</td>\n",
       "      <td>1.000000</td>\n",
       "      <td>1.000000</td>\n",
       "      <td>0.000000</td>\n",
       "      <td>147.953023</td>\n",
       "    </tr>\n",
       "    <tr>\n",
       "      <th>max</th>\n",
       "      <td>3.637002e+08</td>\n",
       "      <td>1.545707e+07</td>\n",
       "      <td>742651.000000</td>\n",
       "      <td>1680.00000</td>\n",
       "      <td>28.000000</td>\n",
       "      <td>0.466667</td>\n",
       "      <td>1.000000</td>\n",
       "      <td>1.000000</td>\n",
       "      <td>28.000000</td>\n",
       "      <td>1.00</td>\n",
       "      <td>1.000000</td>\n",
       "      <td>1.000000</td>\n",
       "      <td>1.000000</td>\n",
       "      <td>363.700221</td>\n",
       "    </tr>\n",
       "  </tbody>\n",
       "</table>\n",
       "</div>"
      ],
      "text/plain": [
       "          viewCount     likeCount   commentCount     seconds     minutes  \\\n",
       "count  1.000000e+02  1.000000e+02     100.000000   100.00000  100.000000   \n",
       "mean   1.235171e+08  3.531127e+06  130303.310000   839.37000   13.989500   \n",
       "std    5.159789e+07  1.701615e+06   97917.697648   228.22918    3.803820   \n",
       "min    4.114869e+07  1.240570e+06   30945.000000   295.00000    4.916667   \n",
       "25%    9.198210e+07  2.663371e+06   81896.250000   704.00000   11.733333   \n",
       "50%    1.177169e+08  3.357315e+06  109988.000000   841.00000   14.016667   \n",
       "75%    1.479530e+08  4.130260e+06  147747.000000   947.25000   15.787500   \n",
       "max    3.637002e+08  1.545707e+07  742651.000000  1680.00000   28.000000   \n",
       "\n",
       "            hours  I_is_first_in_title  money_in_title  minutes_round  \\\n",
       "count  100.000000           100.000000      100.000000     100.000000   \n",
       "mean     0.233158             0.440000        0.470000      13.970000   \n",
       "std      0.063397             0.498888        0.501614       3.817702   \n",
       "min      0.081944             0.000000        0.000000       5.000000   \n",
       "25%      0.195556             0.000000        0.000000      12.000000   \n",
       "50%      0.233611             0.000000        0.000000      14.000000   \n",
       "75%      0.263125             1.000000        1.000000      16.000000   \n",
       "max      0.466667             1.000000        1.000000      28.000000   \n",
       "\n",
       "       longer_than_5_mins  longer_than_10_mins  longer_than_15_mins  \\\n",
       "count              100.00           100.000000           100.000000   \n",
       "mean                 0.99             0.880000             0.410000   \n",
       "std                  0.10             0.326599             0.494311   \n",
       "min                  0.00             0.000000             0.000000   \n",
       "25%                  1.00             1.000000             0.000000   \n",
       "50%                  1.00             1.000000             0.000000   \n",
       "75%                  1.00             1.000000             1.000000   \n",
       "max                  1.00             1.000000             1.000000   \n",
       "\n",
       "       longer_than_20_mins  viewCountMillions  \n",
       "count           100.000000         100.000000  \n",
       "mean              0.040000         123.517140  \n",
       "std               0.196946          51.597894  \n",
       "min               0.000000          41.148686  \n",
       "25%               0.000000          91.982096  \n",
       "50%               0.000000         117.716871  \n",
       "75%               0.000000         147.953023  \n",
       "max               1.000000         363.700221  "
      ]
     },
     "execution_count": 9,
     "metadata": {},
     "output_type": "execute_result"
    }
   ],
   "source": [
    "df.describe()"
   ]
  },
  {
   "attachments": {},
   "cell_type": "markdown",
   "metadata": {},
   "source": [
    "### View Count Corr"
   ]
  },
  {
   "cell_type": "code",
   "execution_count": 10,
   "metadata": {},
   "outputs": [
    {
     "name": "stderr",
     "output_type": "stream",
     "text": [
      "C:\\Users\\fligo\\AppData\\Local\\Temp\\ipykernel_15452\\3459983835.py:1: FutureWarning: The default value of numeric_only in DataFrame.corr is deprecated. In a future version, it will default to False. Select only valid columns or specify the value of numeric_only to silence this warning.\n",
      "  df.corr()['viewCount']\n"
     ]
    },
    {
     "data": {
      "text/plain": [
       "viewCount              1.000000\n",
       "likeCount              0.704373\n",
       "commentCount           0.386983\n",
       "seconds                0.281784\n",
       "minutes                0.281784\n",
       "hours                  0.281784\n",
       "I_is_first_in_title    0.044535\n",
       "money_in_title         0.057862\n",
       "minutes_round          0.285173\n",
       "longer_than_5_mins     0.069478\n",
       "longer_than_10_mins    0.097250\n",
       "longer_than_15_mins    0.225321\n",
       "longer_than_20_mins    0.160854\n",
       "viewCountMillions      1.000000\n",
       "Name: viewCount, dtype: float64"
      ]
     },
     "execution_count": 10,
     "metadata": {},
     "output_type": "execute_result"
    }
   ],
   "source": [
    "df.corr()['viewCount']"
   ]
  },
  {
   "attachments": {},
   "cell_type": "markdown",
   "metadata": {},
   "source": [
    "### Max Views Per Grouping of Times"
   ]
  },
  {
   "cell_type": "code",
   "execution_count": 11,
   "metadata": {},
   "outputs": [
    {
     "name": "stdout",
     "output_type": "stream",
     "text": [
      "longer_than_5_mins\n",
      "0     88.026277\n",
      "1    363.700221\n",
      "Name: viewCountMillions, dtype: float64\n",
      "longer_than_10_mins\n",
      "0    172.396440\n",
      "1    363.700221\n",
      "Name: viewCountMillions, dtype: float64\n",
      "longer_than_15_mins\n",
      "0    238.479763\n",
      "1    363.700221\n",
      "Name: viewCountMillions, dtype: float64\n",
      "longer_than_20_mins\n",
      "0    260.584348\n",
      "1    363.700221\n",
      "Name: viewCountMillions, dtype: float64\n"
     ]
    }
   ],
   "source": [
    "print(df.groupby('longer_than_5_mins')['viewCountMillions'].max())\n",
    "print(df.groupby('longer_than_10_mins')['viewCountMillions'].max())\n",
    "print(df.groupby('longer_than_15_mins')['viewCountMillions'].max())\n",
    "print(df.groupby('longer_than_20_mins')['viewCountMillions'].max())"
   ]
  },
  {
   "cell_type": "code",
   "execution_count": 12,
   "metadata": {},
   "outputs": [
    {
     "data": {
      "text/html": [
       "<div>\n",
       "<style scoped>\n",
       "    .dataframe tbody tr th:only-of-type {\n",
       "        vertical-align: middle;\n",
       "    }\n",
       "\n",
       "    .dataframe tbody tr th {\n",
       "        vertical-align: top;\n",
       "    }\n",
       "\n",
       "    .dataframe thead th {\n",
       "        text-align: right;\n",
       "    }\n",
       "</style>\n",
       "<table border=\"1\" class=\"dataframe\">\n",
       "  <thead>\n",
       "    <tr style=\"text-align: right;\">\n",
       "      <th></th>\n",
       "      <th>id</th>\n",
       "      <th>title</th>\n",
       "      <th>publishedAt</th>\n",
       "      <th>duration</th>\n",
       "      <th>viewCount</th>\n",
       "      <th>likeCount</th>\n",
       "      <th>commentCount</th>\n",
       "      <th>seconds</th>\n",
       "      <th>minutes</th>\n",
       "      <th>hours</th>\n",
       "      <th>I_is_first_in_title</th>\n",
       "      <th>money_in_title</th>\n",
       "      <th>minutes_round</th>\n",
       "      <th>longer_than_5_mins</th>\n",
       "      <th>longer_than_10_mins</th>\n",
       "      <th>longer_than_15_mins</th>\n",
       "      <th>longer_than_20_mins</th>\n",
       "      <th>viewCountMillions</th>\n",
       "    </tr>\n",
       "  </thead>\n",
       "  <tbody>\n",
       "    <tr>\n",
       "      <th>25</th>\n",
       "      <td>0e3GPea1Tyg</td>\n",
       "      <td>$456,000 Squid Game In Real Life!</td>\n",
       "      <td>2021-11-24 21:00:01+00:00</td>\n",
       "      <td>PT25M42S</td>\n",
       "      <td>363700221</td>\n",
       "      <td>15457066</td>\n",
       "      <td>615989</td>\n",
       "      <td>1542</td>\n",
       "      <td>25.700000</td>\n",
       "      <td>0.428333</td>\n",
       "      <td>0</td>\n",
       "      <td>1</td>\n",
       "      <td>26.0</td>\n",
       "      <td>1</td>\n",
       "      <td>1</td>\n",
       "      <td>1</td>\n",
       "      <td>1</td>\n",
       "      <td>363.700221</td>\n",
       "    </tr>\n",
       "    <tr>\n",
       "      <th>152</th>\n",
       "      <td>zxYjTTXc-J8</td>\n",
       "      <td>Last To Leave Circle Wins $500,000</td>\n",
       "      <td>2021-08-31 20:01:03+00:00</td>\n",
       "      <td>PT19M26S</td>\n",
       "      <td>260584348</td>\n",
       "      <td>5502711</td>\n",
       "      <td>115988</td>\n",
       "      <td>1166</td>\n",
       "      <td>19.433333</td>\n",
       "      <td>0.323889</td>\n",
       "      <td>0</td>\n",
       "      <td>1</td>\n",
       "      <td>19.0</td>\n",
       "      <td>1</td>\n",
       "      <td>1</td>\n",
       "      <td>1</td>\n",
       "      <td>0</td>\n",
       "      <td>260.584348</td>\n",
       "    </tr>\n",
       "    <tr>\n",
       "      <th>113</th>\n",
       "      <td>r7zJ8srwwjk</td>\n",
       "      <td>I Spent 50 Hours In Solitary Confinement</td>\n",
       "      <td>2020-05-30 20:10:08+00:00</td>\n",
       "      <td>PT15M52S</td>\n",
       "      <td>242695381</td>\n",
       "      <td>4146292</td>\n",
       "      <td>114679</td>\n",
       "      <td>952</td>\n",
       "      <td>15.866667</td>\n",
       "      <td>0.264444</td>\n",
       "      <td>1</td>\n",
       "      <td>0</td>\n",
       "      <td>16.0</td>\n",
       "      <td>1</td>\n",
       "      <td>1</td>\n",
       "      <td>1</td>\n",
       "      <td>0</td>\n",
       "      <td>242.695381</td>\n",
       "    </tr>\n",
       "    <tr>\n",
       "      <th>141</th>\n",
       "      <td>9bqk6ZUsKyA</td>\n",
       "      <td>I Spent 50 Hours Buried Alive</td>\n",
       "      <td>2021-03-27 20:00:04+00:00</td>\n",
       "      <td>PT12M40S</td>\n",
       "      <td>238479763</td>\n",
       "      <td>7048626</td>\n",
       "      <td>247758</td>\n",
       "      <td>760</td>\n",
       "      <td>12.666667</td>\n",
       "      <td>0.211111</td>\n",
       "      <td>1</td>\n",
       "      <td>0</td>\n",
       "      <td>13.0</td>\n",
       "      <td>1</td>\n",
       "      <td>1</td>\n",
       "      <td>0</td>\n",
       "      <td>0</td>\n",
       "      <td>238.479763</td>\n",
       "    </tr>\n",
       "    <tr>\n",
       "      <th>130</th>\n",
       "      <td>GLoeAJUcz38</td>\n",
       "      <td>Press This Button To Win $100,000!</td>\n",
       "      <td>2020-11-14 21:00:02+00:00</td>\n",
       "      <td>PT15M11S</td>\n",
       "      <td>223524870</td>\n",
       "      <td>3714846</td>\n",
       "      <td>91075</td>\n",
       "      <td>911</td>\n",
       "      <td>15.183333</td>\n",
       "      <td>0.253056</td>\n",
       "      <td>0</td>\n",
       "      <td>1</td>\n",
       "      <td>15.0</td>\n",
       "      <td>1</td>\n",
       "      <td>1</td>\n",
       "      <td>1</td>\n",
       "      <td>0</td>\n",
       "      <td>223.524870</td>\n",
       "    </tr>\n",
       "    <tr>\n",
       "      <th>21</th>\n",
       "      <td>yXWw0_UfSFg</td>\n",
       "      <td>Anything You Can Fit In The Circle I’ll Pay For</td>\n",
       "      <td>2020-03-07 21:00:00+00:00</td>\n",
       "      <td>PT20M</td>\n",
       "      <td>205218227</td>\n",
       "      <td>4467947</td>\n",
       "      <td>114113</td>\n",
       "      <td>1200</td>\n",
       "      <td>20.000000</td>\n",
       "      <td>0.333333</td>\n",
       "      <td>0</td>\n",
       "      <td>0</td>\n",
       "      <td>20.0</td>\n",
       "      <td>1</td>\n",
       "      <td>1</td>\n",
       "      <td>1</td>\n",
       "      <td>0</td>\n",
       "      <td>205.218227</td>\n",
       "    </tr>\n",
       "  </tbody>\n",
       "</table>\n",
       "</div>"
      ],
      "text/plain": [
       "              id                                            title  \\\n",
       "25   0e3GPea1Tyg                $456,000 Squid Game In Real Life!   \n",
       "152  zxYjTTXc-J8               Last To Leave Circle Wins $500,000   \n",
       "113  r7zJ8srwwjk         I Spent 50 Hours In Solitary Confinement   \n",
       "141  9bqk6ZUsKyA                    I Spent 50 Hours Buried Alive   \n",
       "130  GLoeAJUcz38               Press This Button To Win $100,000!   \n",
       "21   yXWw0_UfSFg  Anything You Can Fit In The Circle I’ll Pay For   \n",
       "\n",
       "                  publishedAt  duration  viewCount  likeCount  commentCount  \\\n",
       "25  2021-11-24 21:00:01+00:00  PT25M42S  363700221   15457066        615989   \n",
       "152 2021-08-31 20:01:03+00:00  PT19M26S  260584348    5502711        115988   \n",
       "113 2020-05-30 20:10:08+00:00  PT15M52S  242695381    4146292        114679   \n",
       "141 2021-03-27 20:00:04+00:00  PT12M40S  238479763    7048626        247758   \n",
       "130 2020-11-14 21:00:02+00:00  PT15M11S  223524870    3714846         91075   \n",
       "21  2020-03-07 21:00:00+00:00     PT20M  205218227    4467947        114113   \n",
       "\n",
       "     seconds    minutes     hours  I_is_first_in_title  money_in_title  \\\n",
       "25      1542  25.700000  0.428333                    0               1   \n",
       "152     1166  19.433333  0.323889                    0               1   \n",
       "113      952  15.866667  0.264444                    1               0   \n",
       "141      760  12.666667  0.211111                    1               0   \n",
       "130      911  15.183333  0.253056                    0               1   \n",
       "21      1200  20.000000  0.333333                    0               0   \n",
       "\n",
       "     minutes_round  longer_than_5_mins  longer_than_10_mins  \\\n",
       "25            26.0                   1                    1   \n",
       "152           19.0                   1                    1   \n",
       "113           16.0                   1                    1   \n",
       "141           13.0                   1                    1   \n",
       "130           15.0                   1                    1   \n",
       "21            20.0                   1                    1   \n",
       "\n",
       "     longer_than_15_mins  longer_than_20_mins  viewCountMillions  \n",
       "25                     1                    1         363.700221  \n",
       "152                    1                    0         260.584348  \n",
       "113                    1                    0         242.695381  \n",
       "141                    0                    0         238.479763  \n",
       "130                    1                    0         223.524870  \n",
       "21                     1                    0         205.218227  "
      ]
     },
     "execution_count": 12,
     "metadata": {},
     "output_type": "execute_result"
    }
   ],
   "source": [
    "df[df['viewCount']>200000000].sort_values(by='viewCount',ascending=False)"
   ]
  },
  {
   "cell_type": "code",
   "execution_count": null,
   "metadata": {},
   "outputs": [],
   "source": []
  },
  {
   "attachments": {},
   "cell_type": "markdown",
   "metadata": {},
   "source": [
    "# What Time Does He Post"
   ]
  },
  {
   "cell_type": "code",
   "execution_count": 28,
   "metadata": {},
   "outputs": [
    {
     "data": {
      "text/plain": [
       "20:00    39\n",
       "21:00    37\n",
       "19:59     5\n",
       "21:01     2\n",
       "20:59     2\n",
       "20:10     2\n",
       "20:40     1\n",
       "20:06     1\n",
       "19:01     1\n",
       "21:11     1\n",
       "01:36     1\n",
       "22:00     1\n",
       "00:19     1\n",
       "20:17     1\n",
       "23:00     1\n",
       "20:01     1\n",
       "21:30     1\n",
       "20:02     1\n",
       "20:29     1\n",
       "Name: publishedAtTime, dtype: int64"
      ]
     },
     "execution_count": 28,
     "metadata": {},
     "output_type": "execute_result"
    }
   ],
   "source": [
    "df['publishedAtTime'] = df['publishedAt'].dt.strftime('%H:%M')\n",
    "df['publishedAtTime'].value_counts()\n"
   ]
  },
  {
   "attachments": {},
   "cell_type": "markdown",
   "metadata": {},
   "source": [
    "**Posts from 1-4 but mostly 3-4**"
   ]
  },
  {
   "cell_type": "code",
   "execution_count": null,
   "metadata": {},
   "outputs": [],
   "source": []
  },
  {
   "cell_type": "code",
   "execution_count": 24,
   "metadata": {},
   "outputs": [
    {
     "data": {
      "text/plain": [
       "175    21:00:00\n",
       "174    20:59:59\n",
       "173    21:00:01\n",
       "172    21:00:00\n",
       "171    21:00:00\n",
       "         ...   \n",
       "85     20:10:01\n",
       "84     20:00:08\n",
       "83     20:29:58\n",
       "82     21:00:00\n",
       "81     20:00:05\n",
       "Name: publishedAt, Length: 100, dtype: object"
      ]
     },
     "execution_count": 24,
     "metadata": {},
     "output_type": "execute_result"
    }
   ],
   "source": [
    "df['publishedAt'].dt.time"
   ]
  },
  {
   "attachments": {},
   "cell_type": "markdown",
   "metadata": {},
   "source": [
    "### Duration vs View Count"
   ]
  },
  {
   "cell_type": "code",
   "execution_count": 13,
   "metadata": {},
   "outputs": [
    {
     "data": {
      "image/png": "[encoded data removed]",
      "text/plain": [
       "<Figure size 640x480 with 1 Axes>"
      ]
     },
     "metadata": {},
     "output_type": "display_data"
    }
   ],
   "source": [
    "#plt.scatter(df['minutes'],df['viewCountMillions'],c=df['publishedAt'],cmap='RdYlGn')\n",
    "plt.scatter(df['minutes'],df['viewCountMillions'],c='blue')\n",
    "\n",
    "plt.xlabel('Duration (Minutes)')\n",
    "plt.ylabel('View Count (Millions)')\n",
    "plt.title('Duration vs View Count \\n (Last 100 Video >4 Mins)')\n",
    "plt.savefig('images/duration_vs_view_count.jpg')"
   ]
  },
  {
   "attachments": {},
   "cell_type": "markdown",
   "metadata": {},
   "source": [
    "### Testing last 20 videos"
   ]
  },
  {
   "cell_type": "code",
   "execution_count": 18,
   "metadata": {},
   "outputs": [],
   "source": [
    "#test = df[(df['minutes']>15)&(df['minutes']<20)]\n",
    "last_20 = df.sort_values(by='publishedAt')\n",
    "last_20['last_20'] = [1]*20 + [0]*80\n",
    "last_20 = last_20[last_20['last_20']==1]"
   ]
  },
  {
   "attachments": {},
   "cell_type": "markdown",
   "metadata": {},
   "source": [
    "### Seeing if last 20 videos show any changes being made"
   ]
  },
  {
   "cell_type": "code",
   "execution_count": 19,
   "metadata": {},
   "outputs": [
    {
     "data": {
      "text/plain": [
       "Text(0.5, 1.0, 'Duration vs View Count \\n (Last 100 Video >4 Mins)')"
      ]
     },
     "execution_count": 19,
     "metadata": {},
     "output_type": "execute_result"
    },
    {
     "data": {
      "image/png": "[encoded data removed]",
      "text/plain": [
       "<Figure size 640x480 with 1 Axes>"
      ]
     },
     "metadata": {},
     "output_type": "display_data"
    }
   ],
   "source": [
    "plt.scatter(last_20['minutes'],last_20['viewCountMillions'])\n",
    "#plt.scatter(test['minutes'],test['viewCountMillions'],c='blue')\n",
    "\n",
    "plt.xlabel('Duration (Minutes)')\n",
    "plt.ylabel('View Count (Millions)')\n",
    "plt.title('Duration vs View Count \\n (Last 100 Video >4 Mins)')\n",
    "#plt.savefig('images/duration_vs_view_count.jpg')"
   ]
  },
  {
   "attachments": {},
   "cell_type": "markdown",
   "metadata": {},
   "source": [
    "Can definitley see a tendency to go for longer videos"
   ]
  },
  {
   "cell_type": "code",
   "execution_count": 20,
   "metadata": {},
   "outputs": [
    {
     "data": {
      "image/png": "[encoded data removed]",
      "text/plain": [
       "<Figure size 640x480 with 1 Axes>"
      ]
     },
     "metadata": {},
     "output_type": "display_data"
    }
   ],
   "source": [
    "#plt.scatter(df['minutes'],df['viewCountMillions'],c=df['publishedAt'],cmap='RdYlGn')\n",
    "plt.scatter(df['minutes'],df['viewCountMillions'],c='blue')\n",
    "\n",
    "plt.xlabel('Duration (Minutes)')\n",
    "plt.ylabel('View Count (Millions)')\n",
    "plt.title('Duration vs View Count \\n (Last 100 Video >4 Mins)')\n",
    "plt.savefig('images/duration_vs_view_count.jpg')"
   ]
  },
  {
   "attachments": {},
   "cell_type": "markdown",
   "metadata": {},
   "source": [
    "### Box Plots to see if means go up"
   ]
  },
  {
   "cell_type": "code",
   "execution_count": 21,
   "metadata": {},
   "outputs": [
    {
     "name": "stdout",
     "output_type": "stream",
     "text": [
      "4-5 : 1\n",
      "6-7 : 2\n",
      "7-8 : 1\n",
      "8-9 : 5\n",
      "9-10 : 3\n",
      "10-11 : 5\n",
      "11-12 : 11\n",
      "12-13 : 9\n",
      "13-14 : 13\n",
      "14-15 : 9\n",
      "15-16 : 18\n",
      "16-17 : 8\n",
      "17-18 : 6\n",
      "18-19 : 3\n",
      "19-20 : 1\n",
      "22-23 : 1\n",
      "24-25 : 1\n",
      "25-26 : 1\n"
     ]
    },
    {
     "data": {
      "image/png": "[encoded data removed]",
      "text/plain": [
       "<Figure size 640x480 with 1 Axes>"
      ]
     },
     "metadata": {},
     "output_type": "display_data"
    }
   ],
   "source": [
    "avg_count_time_duration = {}\n",
    "fig = plt.figure()\n",
    "ax = plt.subplot(111)\n",
    "for a in range(3,30,1):\n",
    "    curr_df = df[(df['minutes']>a)&(df['minutes']<(a+1))]\n",
    "    if len(curr_df)!=0:\n",
    "        print(f\"{a}-{a+1} : {len(curr_df)}\")\n",
    "        ax.boxplot(curr_df['viewCountMillions'], positions = [a])\n",
    "    #plt.boxplot(curr_df['viewCount'])\n",
    "    #plt.show()\n",
    "    #median_count\n",
    "    #avg_count_time_duration[b] = avg_count\n",
    "    # if avg_count>0:\n",
    "    #     print(f\"Between {a} and {b} minutes : {avg_count}\")\n",
    "ax.set_title('View Duration vs View Count')\n",
    "ax.set_xlabel('Video Duration (Minutes)')\n",
    "ax.set_ylabel('View Count (Millions)')\n",
    "plt.savefig('images\\\\boxplot_view_times.jpg')"
   ]
  },
  {
   "attachments": {},
   "cell_type": "markdown",
   "metadata": {},
   "source": [
    "### Average View Count per grouping of videos\n",
    "Videos grouped by how many minutes (rounded) they are"
   ]
  },
  {
   "cell_type": "code",
   "execution_count": 115,
   "metadata": {},
   "outputs": [
    {
     "data": {
      "text/plain": [
       "Text(0, 0.5, 'View Count (Millions)')"
      ]
     },
     "execution_count": 115,
     "metadata": {},
     "output_type": "execute_result"
    },
    {
     "data": {
      "image/png": "[encoded data removed]",
      "text/plain": [
       "<Figure size 640x480 with 1 Axes>"
      ]
     },
     "metadata": {},
     "output_type": "display_data"
    }
   ],
   "source": [
    "avg_count_time_duration = {}\n",
    "fig = plt.figure()\n",
    "ax = plt.subplot(111)\n",
    "for a in range(3,30,1):\n",
    "    curr_mean = df[(df['minutes']>a)&(df['minutes']<(a+1))]['viewCount'].mean()\n",
    "    ax.scatter(a+1,curr_mean,color='blue')\n",
    "ax.set_title('View Duration vs View Count')\n",
    "ax.set_xlabel('Video Duration (Minutes)')\n",
    "ax.set_ylabel('View Count (Millions)')"
   ]
  },
  {
   "cell_type": "code",
   "execution_count": 95,
   "metadata": {},
   "outputs": [
    {
     "data": {
      "text/plain": [
       "4.916666666666667"
      ]
     },
     "execution_count": 95,
     "metadata": {},
     "output_type": "execute_result"
    }
   ],
   "source": [
    "df.minutes.min()"
   ]
  },
  {
   "cell_type": "code",
   "execution_count": 118,
   "metadata": {},
   "outputs": [
    {
     "data": {
      "text/html": [
       "<div>\n",
       "<style scoped>\n",
       "    .dataframe tbody tr th:only-of-type {\n",
       "        vertical-align: middle;\n",
       "    }\n",
       "\n",
       "    .dataframe tbody tr th {\n",
       "        vertical-align: top;\n",
       "    }\n",
       "\n",
       "    .dataframe thead th {\n",
       "        text-align: right;\n",
       "    }\n",
       "</style>\n",
       "<table border=\"1\" class=\"dataframe\">\n",
       "  <thead>\n",
       "    <tr style=\"text-align: right;\">\n",
       "      <th></th>\n",
       "      <th>id</th>\n",
       "      <th>title</th>\n",
       "      <th>publishedAt</th>\n",
       "      <th>duration</th>\n",
       "      <th>viewCount</th>\n",
       "      <th>likeCount</th>\n",
       "      <th>commentCount</th>\n",
       "      <th>seconds</th>\n",
       "      <th>minutes</th>\n",
       "      <th>hours</th>\n",
       "      <th>I_is_first_in_title</th>\n",
       "      <th>money_in_title</th>\n",
       "      <th>minutes_round</th>\n",
       "      <th>longer_than_5_mins</th>\n",
       "      <th>longer_than_10_mins</th>\n",
       "      <th>longer_than_15_mins</th>\n",
       "      <th>longer_than_20_mins</th>\n",
       "      <th>viewCountMillions</th>\n",
       "    </tr>\n",
       "  </thead>\n",
       "  <tbody>\n",
       "    <tr>\n",
       "      <th>175</th>\n",
       "      <td>TJ2ifmkGGus</td>\n",
       "      <td>1,000 Blind People See For The First Time</td>\n",
       "      <td>2023-01-28 21:00:00+00:00</td>\n",
       "      <td>PT8M1S</td>\n",
       "      <td>104049678</td>\n",
       "      <td>8340630</td>\n",
       "      <td>350173</td>\n",
       "      <td>481</td>\n",
       "      <td>8.016667</td>\n",
       "      <td>0.133611</td>\n",
       "      <td>0</td>\n",
       "      <td>0</td>\n",
       "      <td>8.0</td>\n",
       "      <td>1</td>\n",
       "      <td>0</td>\n",
       "      <td>0</td>\n",
       "      <td>0</td>\n",
       "      <td>104.049678</td>\n",
       "    </tr>\n",
       "    <tr>\n",
       "      <th>174</th>\n",
       "      <td>7IKab3HcfFk</td>\n",
       "      <td>I Survived 50 Hours In Antarctica</td>\n",
       "      <td>2022-12-24 20:59:59+00:00</td>\n",
       "      <td>PT12M10S</td>\n",
       "      <td>93756727</td>\n",
       "      <td>3903088</td>\n",
       "      <td>149139</td>\n",
       "      <td>730</td>\n",
       "      <td>12.166667</td>\n",
       "      <td>0.202778</td>\n",
       "      <td>1</td>\n",
       "      <td>0</td>\n",
       "      <td>12.0</td>\n",
       "      <td>1</td>\n",
       "      <td>1</td>\n",
       "      <td>0</td>\n",
       "      <td>0</td>\n",
       "      <td>93.756727</td>\n",
       "    </tr>\n",
       "    <tr>\n",
       "      <th>173</th>\n",
       "      <td>h5NvTTOlOtI</td>\n",
       "      <td>Hydraulic Press Vs Lamborghini</td>\n",
       "      <td>2022-12-10 21:00:01+00:00</td>\n",
       "      <td>PT10M25S</td>\n",
       "      <td>111706959</td>\n",
       "      <td>4405020</td>\n",
       "      <td>126673</td>\n",
       "      <td>625</td>\n",
       "      <td>10.416667</td>\n",
       "      <td>0.173611</td>\n",
       "      <td>0</td>\n",
       "      <td>0</td>\n",
       "      <td>10.0</td>\n",
       "      <td>1</td>\n",
       "      <td>1</td>\n",
       "      <td>0</td>\n",
       "      <td>0</td>\n",
       "      <td>111.706959</td>\n",
       "    </tr>\n",
       "    <tr>\n",
       "      <th>172</th>\n",
       "      <td>0CTp1a-aCUM</td>\n",
       "      <td>100 Kids Vs 100 Adults For $500,000</td>\n",
       "      <td>2022-12-03 21:00:00+00:00</td>\n",
       "      <td>PT15M23S</td>\n",
       "      <td>112471275</td>\n",
       "      <td>3187307</td>\n",
       "      <td>93260</td>\n",
       "      <td>923</td>\n",
       "      <td>15.383333</td>\n",
       "      <td>0.256389</td>\n",
       "      <td>0</td>\n",
       "      <td>1</td>\n",
       "      <td>15.0</td>\n",
       "      <td>1</td>\n",
       "      <td>1</td>\n",
       "      <td>1</td>\n",
       "      <td>0</td>\n",
       "      <td>112.471275</td>\n",
       "    </tr>\n",
       "    <tr>\n",
       "      <th>171</th>\n",
       "      <td>kX3nB4PpJko</td>\n",
       "      <td>Last To Take Hand Off Jet, Keeps It!</td>\n",
       "      <td>2022-11-12 21:00:00+00:00</td>\n",
       "      <td>PT15M37S</td>\n",
       "      <td>90835505</td>\n",
       "      <td>3328644</td>\n",
       "      <td>104899</td>\n",
       "      <td>937</td>\n",
       "      <td>15.616667</td>\n",
       "      <td>0.260278</td>\n",
       "      <td>0</td>\n",
       "      <td>0</td>\n",
       "      <td>16.0</td>\n",
       "      <td>1</td>\n",
       "      <td>1</td>\n",
       "      <td>1</td>\n",
       "      <td>0</td>\n",
       "      <td>90.835505</td>\n",
       "    </tr>\n",
       "  </tbody>\n",
       "</table>\n",
       "</div>"
      ],
      "text/plain": [
       "              id                                      title  \\\n",
       "175  TJ2ifmkGGus  1,000 Blind People See For The First Time   \n",
       "174  7IKab3HcfFk          I Survived 50 Hours In Antarctica   \n",
       "173  h5NvTTOlOtI             Hydraulic Press Vs Lamborghini   \n",
       "172  0CTp1a-aCUM        100 Kids Vs 100 Adults For $500,000   \n",
       "171  kX3nB4PpJko       Last To Take Hand Off Jet, Keeps It!   \n",
       "\n",
       "                  publishedAt  duration  viewCount  likeCount  commentCount  \\\n",
       "175 2023-01-28 21:00:00+00:00    PT8M1S  104049678    8340630        350173   \n",
       "174 2022-12-24 20:59:59+00:00  PT12M10S   93756727    3903088        149139   \n",
       "173 2022-12-10 21:00:01+00:00  PT10M25S  111706959    4405020        126673   \n",
       "172 2022-12-03 21:00:00+00:00  PT15M23S  112471275    3187307         93260   \n",
       "171 2022-11-12 21:00:00+00:00  PT15M37S   90835505    3328644        104899   \n",
       "\n",
       "     seconds    minutes     hours  I_is_first_in_title  money_in_title  \\\n",
       "175      481   8.016667  0.133611                    0               0   \n",
       "174      730  12.166667  0.202778                    1               0   \n",
       "173      625  10.416667  0.173611                    0               0   \n",
       "172      923  15.383333  0.256389                    0               1   \n",
       "171      937  15.616667  0.260278                    0               0   \n",
       "\n",
       "     minutes_round  longer_than_5_mins  longer_than_10_mins  \\\n",
       "175            8.0                   1                    0   \n",
       "174           12.0                   1                    1   \n",
       "173           10.0                   1                    1   \n",
       "172           15.0                   1                    1   \n",
       "171           16.0                   1                    1   \n",
       "\n",
       "     longer_than_15_mins  longer_than_20_mins  viewCountMillions  \n",
       "175                    0                    0         104.049678  \n",
       "174                    0                    0          93.756727  \n",
       "173                    0                    0         111.706959  \n",
       "172                    1                    0         112.471275  \n",
       "171                    1                    0          90.835505  "
      ]
     },
     "execution_count": 118,
     "metadata": {},
     "output_type": "execute_result"
    }
   ],
   "source": []
  },
  {
   "attachments": {},
   "cell_type": "markdown",
   "metadata": {},
   "source": [
    "### Graph to show how APV depends on Length"
   ]
  },
  {
   "cell_type": "code",
   "execution_count": 117,
   "metadata": {},
   "outputs": [
    {
     "name": "stderr",
     "output_type": "stream",
     "text": [
      "C:\\Users\\fligo\\AppData\\Local\\Temp\\ipykernel_17776\\132161829.py:4: UserWarning: color is redundantly defined by the 'color' keyword argument and the fmt string \"-bD\" (-> color='b'). The keyword argument will take precedence.\n",
      "  plt.plot(x,y,'-bD',markevery=markers_on, color='blue')\n"
     ]
    },
    {
     "data": {
      "image/png": "[encoded data removed]",
      "text/plain": [
       "<Figure size 640x480 with 1 Axes>"
      ]
     },
     "metadata": {},
     "output_type": "display_data"
    }
   ],
   "source": [
    "x = list(range(1,20,1))\n",
    "y = [(0.16666667/x)*100 for x in x]\n",
    "markers_on = [0,9]\n",
    "plt.plot(x,y,'-bD',markevery=markers_on, color='blue')\n",
    "plt.title('APV vs Length of Video \\n(Assuming 10 second view time)')\n",
    "plt.ylabel('APV (%)')\n",
    "plt.xlabel('Length of Video (Minutes)')\n",
    "plt.xticks(range(0,20,2));"
   ]
  },
  {
   "cell_type": "code",
   "execution_count": 119,
   "metadata": {},
   "outputs": [
    {
     "data": {
      "text/html": [
       "<div>\n",
       "<style scoped>\n",
       "    .dataframe tbody tr th:only-of-type {\n",
       "        vertical-align: middle;\n",
       "    }\n",
       "\n",
       "    .dataframe tbody tr th {\n",
       "        vertical-align: top;\n",
       "    }\n",
       "\n",
       "    .dataframe thead th {\n",
       "        text-align: right;\n",
       "    }\n",
       "</style>\n",
       "<table border=\"1\" class=\"dataframe\">\n",
       "  <thead>\n",
       "    <tr style=\"text-align: right;\">\n",
       "      <th></th>\n",
       "      <th>id</th>\n",
       "      <th>title</th>\n",
       "      <th>publishedAt</th>\n",
       "      <th>duration</th>\n",
       "      <th>viewCount</th>\n",
       "      <th>likeCount</th>\n",
       "      <th>commentCount</th>\n",
       "      <th>seconds</th>\n",
       "      <th>minutes</th>\n",
       "      <th>hours</th>\n",
       "      <th>I_is_first_in_title</th>\n",
       "      <th>money_in_title</th>\n",
       "      <th>minutes_round</th>\n",
       "      <th>longer_than_5_mins</th>\n",
       "      <th>longer_than_10_mins</th>\n",
       "      <th>longer_than_15_mins</th>\n",
       "      <th>longer_than_20_mins</th>\n",
       "      <th>viewCountMillions</th>\n",
       "    </tr>\n",
       "  </thead>\n",
       "  <tbody>\n",
       "    <tr>\n",
       "      <th>175</th>\n",
       "      <td>TJ2ifmkGGus</td>\n",
       "      <td>1,000 Blind People See For The First Time</td>\n",
       "      <td>2023-01-28 21:00:00+00:00</td>\n",
       "      <td>PT8M1S</td>\n",
       "      <td>104049678</td>\n",
       "      <td>8340630</td>\n",
       "      <td>350173</td>\n",
       "      <td>481</td>\n",
       "      <td>8.016667</td>\n",
       "      <td>0.133611</td>\n",
       "      <td>0</td>\n",
       "      <td>0</td>\n",
       "      <td>8.0</td>\n",
       "      <td>1</td>\n",
       "      <td>0</td>\n",
       "      <td>0</td>\n",
       "      <td>0</td>\n",
       "      <td>104.049678</td>\n",
       "    </tr>\n",
       "    <tr>\n",
       "      <th>174</th>\n",
       "      <td>7IKab3HcfFk</td>\n",
       "      <td>I Survived 50 Hours In Antarctica</td>\n",
       "      <td>2022-12-24 20:59:59+00:00</td>\n",
       "      <td>PT12M10S</td>\n",
       "      <td>93756727</td>\n",
       "      <td>3903088</td>\n",
       "      <td>149139</td>\n",
       "      <td>730</td>\n",
       "      <td>12.166667</td>\n",
       "      <td>0.202778</td>\n",
       "      <td>1</td>\n",
       "      <td>0</td>\n",
       "      <td>12.0</td>\n",
       "      <td>1</td>\n",
       "      <td>1</td>\n",
       "      <td>0</td>\n",
       "      <td>0</td>\n",
       "      <td>93.756727</td>\n",
       "    </tr>\n",
       "    <tr>\n",
       "      <th>173</th>\n",
       "      <td>h5NvTTOlOtI</td>\n",
       "      <td>Hydraulic Press Vs Lamborghini</td>\n",
       "      <td>2022-12-10 21:00:01+00:00</td>\n",
       "      <td>PT10M25S</td>\n",
       "      <td>111706959</td>\n",
       "      <td>4405020</td>\n",
       "      <td>126673</td>\n",
       "      <td>625</td>\n",
       "      <td>10.416667</td>\n",
       "      <td>0.173611</td>\n",
       "      <td>0</td>\n",
       "      <td>0</td>\n",
       "      <td>10.0</td>\n",
       "      <td>1</td>\n",
       "      <td>1</td>\n",
       "      <td>0</td>\n",
       "      <td>0</td>\n",
       "      <td>111.706959</td>\n",
       "    </tr>\n",
       "    <tr>\n",
       "      <th>172</th>\n",
       "      <td>0CTp1a-aCUM</td>\n",
       "      <td>100 Kids Vs 100 Adults For $500,000</td>\n",
       "      <td>2022-12-03 21:00:00+00:00</td>\n",
       "      <td>PT15M23S</td>\n",
       "      <td>112471275</td>\n",
       "      <td>3187307</td>\n",
       "      <td>93260</td>\n",
       "      <td>923</td>\n",
       "      <td>15.383333</td>\n",
       "      <td>0.256389</td>\n",
       "      <td>0</td>\n",
       "      <td>1</td>\n",
       "      <td>15.0</td>\n",
       "      <td>1</td>\n",
       "      <td>1</td>\n",
       "      <td>1</td>\n",
       "      <td>0</td>\n",
       "      <td>112.471275</td>\n",
       "    </tr>\n",
       "    <tr>\n",
       "      <th>171</th>\n",
       "      <td>kX3nB4PpJko</td>\n",
       "      <td>Last To Take Hand Off Jet, Keeps It!</td>\n",
       "      <td>2022-11-12 21:00:00+00:00</td>\n",
       "      <td>PT15M37S</td>\n",
       "      <td>90835505</td>\n",
       "      <td>3328644</td>\n",
       "      <td>104899</td>\n",
       "      <td>937</td>\n",
       "      <td>15.616667</td>\n",
       "      <td>0.260278</td>\n",
       "      <td>0</td>\n",
       "      <td>0</td>\n",
       "      <td>16.0</td>\n",
       "      <td>1</td>\n",
       "      <td>1</td>\n",
       "      <td>1</td>\n",
       "      <td>0</td>\n",
       "      <td>90.835505</td>\n",
       "    </tr>\n",
       "  </tbody>\n",
       "</table>\n",
       "</div>"
      ],
      "text/plain": [
       "              id                                      title  \\\n",
       "175  TJ2ifmkGGus  1,000 Blind People See For The First Time   \n",
       "174  7IKab3HcfFk          I Survived 50 Hours In Antarctica   \n",
       "173  h5NvTTOlOtI             Hydraulic Press Vs Lamborghini   \n",
       "172  0CTp1a-aCUM        100 Kids Vs 100 Adults For $500,000   \n",
       "171  kX3nB4PpJko       Last To Take Hand Off Jet, Keeps It!   \n",
       "\n",
       "                  publishedAt  duration  viewCount  likeCount  commentCount  \\\n",
       "175 2023-01-28 21:00:00+00:00    PT8M1S  104049678    8340630        350173   \n",
       "174 2022-12-24 20:59:59+00:00  PT12M10S   93756727    3903088        149139   \n",
       "173 2022-12-10 21:00:01+00:00  PT10M25S  111706959    4405020        126673   \n",
       "172 2022-12-03 21:00:00+00:00  PT15M23S  112471275    3187307         93260   \n",
       "171 2022-11-12 21:00:00+00:00  PT15M37S   90835505    3328644        104899   \n",
       "\n",
       "     seconds    minutes     hours  I_is_first_in_title  money_in_title  \\\n",
       "175      481   8.016667  0.133611                    0               0   \n",
       "174      730  12.166667  0.202778                    1               0   \n",
       "173      625  10.416667  0.173611                    0               0   \n",
       "172      923  15.383333  0.256389                    0               1   \n",
       "171      937  15.616667  0.260278                    0               0   \n",
       "\n",
       "     minutes_round  longer_than_5_mins  longer_than_10_mins  \\\n",
       "175            8.0                   1                    0   \n",
       "174           12.0                   1                    1   \n",
       "173           10.0                   1                    1   \n",
       "172           15.0                   1                    1   \n",
       "171           16.0                   1                    1   \n",
       "\n",
       "     longer_than_15_mins  longer_than_20_mins  viewCountMillions  \n",
       "175                    0                    0         104.049678  \n",
       "174                    0                    0          93.756727  \n",
       "173                    0                    0         111.706959  \n",
       "172                    1                    0         112.471275  \n",
       "171                    1                    0          90.835505  "
      ]
     },
     "execution_count": 119,
     "metadata": {},
     "output_type": "execute_result"
    }
   ],
   "source": []
  },
  {
   "attachments": {},
   "cell_type": "markdown",
   "metadata": {},
   "source": [
    "# Model Building for Feature Importance\n",
    "This may give us an idea of what correlates most with a higher view count."
   ]
  },
  {
   "cell_type": "code",
   "execution_count": 123,
   "metadata": {},
   "outputs": [
    {
     "name": "stdout",
     "output_type": "stream",
     "text": [
      "Collecting scikit-learn\n",
      "  Downloading scikit_learn-1.2.1-cp39-cp39-win_amd64.whl (8.4 MB)\n",
      "     ---------------------------------------- 0.0/8.4 MB ? eta -:--:--\n",
      "     ---- ----------------------------------- 1.0/8.4 MB 21.1 MB/s eta 0:00:01\n",
      "     ----------- ---------------------------- 2.4/8.4 MB 25.9 MB/s eta 0:00:01\n",
      "     ------------------ --------------------- 3.8/8.4 MB 26.9 MB/s eta 0:00:01\n",
      "     ------------------------- -------------- 5.4/8.4 MB 28.8 MB/s eta 0:00:01\n",
      "     ------------------------------- -------- 6.7/8.4 MB 28.4 MB/s eta 0:00:01\n",
      "     -------------------------------------- - 8.0/8.4 MB 28.5 MB/s eta 0:00:01\n",
      "     ---------------------------------------  8.4/8.4 MB 28.2 MB/s eta 0:00:01\n",
      "     ---------------------------------------- 8.4/8.4 MB 25.5 MB/s eta 0:00:00\n",
      "Collecting scipy>=1.3.2\n",
      "  Using cached scipy-1.10.0-cp39-cp39-win_amd64.whl (42.5 MB)\n",
      "Collecting joblib>=1.1.1\n",
      "  Downloading joblib-1.2.0-py3-none-any.whl (297 kB)\n",
      "     ---------------------------------------- 0.0/298.0 kB ? eta -:--:--\n",
      "     ------------------------------------- 298.0/298.0 kB 19.2 MB/s eta 0:00:00\n",
      "Collecting threadpoolctl>=2.0.0\n",
      "  Downloading threadpoolctl-3.1.0-py3-none-any.whl (14 kB)\n",
      "Requirement already satisfied: numpy>=1.17.3 in c:\\users\\fligo\\appdata\\local\\packages\\pythonsoftwarefoundation.python.3.9_qbz5n2kfra8p0\\localcache\\local-packages\\python39\\site-packages (from scikit-learn) (1.24.2)\n",
      "Installing collected packages: threadpoolctl, scipy, joblib, scikit-learn\n",
      "Successfully installed joblib-1.2.0 scikit-learn-1.2.1 scipy-1.10.0 threadpoolctl-3.1.0\n"
     ]
    }
   ],
   "source": [
    "!pip install scikit-learn"
   ]
  },
  {
   "cell_type": "code",
   "execution_count": 125,
   "metadata": {},
   "outputs": [
    {
     "data": {
      "text/plain": [
       "39010601.47203399"
      ]
     },
     "execution_count": 125,
     "metadata": {},
     "output_type": "execute_result"
    }
   ],
   "source": [
    "import numpy as np\n",
    "from sklearn.linear_model import LinearRegression\n",
    "X = df[['seconds','I_is_first_in_title','money_in_title','longer_than_5_mins','longer_than_10_mins','longer_than_15_mins','longer_than_20_mins']]\n",
    "# y = 1 * x_0 + 2 * x_1 + 3\n",
    "y = df['viewCount']\n",
    "reg = LinearRegression().fit(X, y)\n",
    "reg.score(X, y)\n",
    "\n",
    "reg.coef_\n",
    "\n",
    "reg.intercept_\n"
   ]
  },
  {
   "cell_type": "code",
   "execution_count": 127,
   "metadata": {},
   "outputs": [
    {
     "name": "stdout",
     "output_type": "stream",
     "text": [
      "seconds 114013.7957163726\n",
      "I_is_first_in_title 15381605.791636288\n",
      "money_in_title 2996356.7995613012\n",
      "longer_than_5_mins 11597515.796614412\n",
      "longer_than_10_mins -32473690.2877758\n",
      "longer_than_15_mins -3087641.1242611706\n",
      "longer_than_20_mins -25204406.026447743\n"
     ]
    }
   ],
   "source": [
    "for a,b in zip(X,reg.coef_):\n",
    "    print(a,b)"
   ]
  },
  {
   "cell_type": "code",
   "execution_count": null,
   "metadata": {},
   "outputs": [],
   "source": []
  }
 ],
 "metadata": {
  "kernelspec": {
   "display_name": "Python 3",
   "language": "python",
   "name": "python3"
  },
  "language_info": {
   "codemirror_mode": {
    "name": "ipython",
    "version": 3
   },
   "file_extension": ".py",
   "mimetype": "text/x-python",
   "name": "python",
   "nbconvert_exporter": "python",
   "pygments_lexer": "ipython3",
   "version": "3.9.13"
  },
  "orig_nbformat": 4,
  "vscode": {
   "interpreter": {
    "hash": "70f9c32967fb33f3823b8d7f5601daa442546b38ccf06ae11297afe8c6a15b40"
   }
  }
 },
 "nbformat": 4,
 "nbformat_minor": 2
}
