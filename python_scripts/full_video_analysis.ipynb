{
 "cells": [
  {
   "attachments": {},
   "cell_type": "markdown",
   "metadata": {},
   "source": [
    "# Imports"
   ]
  },
  {
   "cell_type": "code",
   "execution_count": 2,
   "metadata": {},
   "outputs": [],
   "source": [
    "import json\n",
    "import pandas as pd\n",
    "import numpy as np\n",
    "import matplotlib.pyplot as plt"
   ]
  },
  {
   "attachments": {},
   "cell_type": "markdown",
   "metadata": {},
   "source": [
    "# Creating DF"
   ]
  },
  {
   "cell_type": "code",
   "execution_count": 3,
   "metadata": {},
   "outputs": [],
   "source": [
    "\n",
    "columns = [\n",
    "    'id'\n",
    "    , 'title'\n",
    "    , 'publishedAt'\n",
    "    , 'duration'\n",
    "    , 'viewCount'\n",
    "    , 'likeCount'\n",
    "    , 'commentCount'\n",
    "]\n",
    "df = pd.DataFrame(columns=columns)"
   ]
  },
  {
   "cell_type": "code",
   "execution_count": 4,
   "metadata": {},
   "outputs": [],
   "source": [
    "video_array = [\n",
    "    '..\\\\video_api_data_full\\\\full_videos_output_1_50.json'\n",
    "    , '..\\\\video_api_data_full\\\\full_videos_output_51_100.json'\n",
    "    , '..\\\\video_api_data_full\\\\full_videos_output_101_150.json'\n",
    "    , '..\\\\video_api_data_full\\\\full_videos_output_all_long.json'\n",
    "]\n",
    "for file_name in video_array:\n",
    "    #print('Done')\n",
    "    video_data_file = open(file_name)\n",
    "    video_data = json.load(video_data_file)\n",
    "    for item in video_data['items']:\n",
    "        try:\n",
    "            df.loc[-1] = [\n",
    "                item['id']\n",
    "                , item['snippet']['title']\n",
    "                , item['snippet']['publishedAt']\n",
    "                , item['contentDetails']['duration']\n",
    "                , item['statistics']['viewCount']\n",
    "                , item['statistics']['likeCount']\n",
    "                , item['statistics']['commentCount']\n",
    "            ]\n",
    "        except:\n",
    "            df.loc[-1] = [\n",
    "                item['id']\n",
    "                , item['snippet']['title']\n",
    "                , item['snippet']['publishedAt']\n",
    "                , item['contentDetails']['duration']\n",
    "                , item['statistics']['viewCount']\n",
    "                , item['statistics']['likeCount']\n",
    "                , 0 # Watching Dance Till You're Dead For 10 Hours - HAS NO COMMENTS\n",
    "            ]\n",
    "        df.index = df.index + 1"
   ]
  },
  {
   "cell_type": "code",
   "execution_count": 5,
   "metadata": {},
   "outputs": [],
   "source": [
    "import re\n",
    "from dateutil import parser\n",
    "\n",
    "# test = df['duration'][0]\n",
    "\n",
    "# print(re.findall(r'(?:PT)(\\d*)(?:M)(\\d*)(?:S)', test))\n",
    "#print(re.findall(r'\\d+', test))\n",
    "def duration_to_seconds(item):\n",
    "    h_m_s = re.findall(r'PT(\\d+H)?(\\d+M)?(\\d+S)?', item)\n",
    "    #print(h_m_s)\n",
    "    try:\n",
    "        hrs = int(h_m_s[0][0][:-1])\n",
    "    except:\n",
    "        hrs = 0\n",
    "    try:\n",
    "        mins = int(h_m_s[0][1][:-1])\n",
    "    except:\n",
    "        mins = 0\n",
    "    try:\n",
    "        secs = int(h_m_s[0][2][:-1])\n",
    "    except:\n",
    "        secs = 0\n",
    "    return (hrs*(60*60))+(mins*60)+secs\n",
    "\n",
    "def duration_to_minutes(item):\n",
    "    return item/60\n",
    "\n",
    "def duration_to_hours(item):\n",
    "    return item/(60*60)\n",
    "\n",
    "def published_at_datetime(item):\n",
    "    return parser.parse(item)\n",
    "\n",
    "\n",
    "\n",
    "df['seconds'] = df['duration'].apply(lambda x: duration_to_seconds(x))\n",
    "df['minutes'] = df['seconds'].apply(lambda x: duration_to_minutes(x))\n",
    "df['hours'] = df['seconds'].apply(lambda x: duration_to_hours(x))\n",
    "df['publishedAt'] = df['publishedAt'].apply(lambda x: published_at_datetime(x))"
   ]
  },
  {
   "cell_type": "code",
   "execution_count": 6,
   "metadata": {},
   "outputs": [],
   "source": [
    "df['viewCount'] = df['viewCount'].astype(int)\n",
    "df['likeCount'] = df['likeCount'].astype(int)\n",
    "df['commentCount'] = df['commentCount'].astype(int)"
   ]
  },
  {
   "attachments": {},
   "cell_type": "markdown",
   "metadata": {},
   "source": [
    "# EDA\n",
    "\n",
    "### CUTTING TO ONLY 100 LATEST VIDEOS\n",
    "\n",
    "We are only using videos longer than 4 minutes becuase the YouTube Api starts to pull shorts if you get all \"short\" video ids from a channel"
   ]
  },
  {
   "cell_type": "code",
   "execution_count": 7,
   "metadata": {},
   "outputs": [],
   "source": [
    "df.sort_values(by='publishedAt',ascending=False,inplace=True)\n",
    "df = df.iloc[0:100,:]"
   ]
  },
  {
   "attachments": {},
   "cell_type": "markdown",
   "metadata": {},
   "source": [
    "# Column Creation"
   ]
  },
  {
   "cell_type": "code",
   "execution_count": 17,
   "metadata": {},
   "outputs": [],
   "source": [
    "df['I_is_first_in_title'] = df['title'].apply(lambda x: 1 if str.lower(x[0])=='i' else 0)\n",
    "df['money_in_title'] = df['title'].apply(lambda x: 1 if \"$\" in x else 0)\n",
    "df['minutes_round'] = np.round(df['minutes'])\n",
    "df['longer_than_5_mins'] = df['minutes'].apply(lambda x: 1 if x>5 else 0)\n",
    "df['longer_than_10_mins'] = df['minutes'].apply(lambda x: 1 if x>10 else 0)\n",
    "df['longer_than_15_mins'] = df['minutes'].apply(lambda x: 1 if x>15 else 0)\n",
    "df['longer_than_20_mins'] = df['minutes'].apply(lambda x: 1 if x>20 else 0)\n",
    "df['viewCountMillions'] = df['viewCount'] / 1000000\n",
    "df['like_ratio'] = df['likeCount'] / df['viewCount']"
   ]
  },
  {
   "cell_type": "code",
   "execution_count": 9,
   "metadata": {},
   "outputs": [
    {
     "data": {
      "text/html": [
       "<div>\n",
       "<style scoped>\n",
       "    .dataframe tbody tr th:only-of-type {\n",
       "        vertical-align: middle;\n",
       "    }\n",
       "\n",
       "    .dataframe tbody tr th {\n",
       "        vertical-align: top;\n",
       "    }\n",
       "\n",
       "    .dataframe thead th {\n",
       "        text-align: right;\n",
       "    }\n",
       "</style>\n",
       "<table border=\"1\" class=\"dataframe\">\n",
       "  <thead>\n",
       "    <tr style=\"text-align: right;\">\n",
       "      <th></th>\n",
       "      <th>viewCount</th>\n",
       "      <th>likeCount</th>\n",
       "      <th>commentCount</th>\n",
       "      <th>seconds</th>\n",
       "      <th>minutes</th>\n",
       "      <th>hours</th>\n",
       "      <th>I_is_first_in_title</th>\n",
       "      <th>money_in_title</th>\n",
       "      <th>minutes_round</th>\n",
       "      <th>longer_than_5_mins</th>\n",
       "      <th>longer_than_10_mins</th>\n",
       "      <th>longer_than_15_mins</th>\n",
       "      <th>longer_than_20_mins</th>\n",
       "      <th>viewCountMillions</th>\n",
       "    </tr>\n",
       "  </thead>\n",
       "  <tbody>\n",
       "    <tr>\n",
       "      <th>count</th>\n",
       "      <td>1.000000e+02</td>\n",
       "      <td>1.000000e+02</td>\n",
       "      <td>100.000000</td>\n",
       "      <td>100.00000</td>\n",
       "      <td>100.000000</td>\n",
       "      <td>100.000000</td>\n",
       "      <td>100.000000</td>\n",
       "      <td>100.000000</td>\n",
       "      <td>100.000000</td>\n",
       "      <td>100.00</td>\n",
       "      <td>100.000000</td>\n",
       "      <td>100.000000</td>\n",
       "      <td>100.000000</td>\n",
       "      <td>100.000000</td>\n",
       "    </tr>\n",
       "    <tr>\n",
       "      <th>mean</th>\n",
       "      <td>1.235171e+08</td>\n",
       "      <td>3.531127e+06</td>\n",
       "      <td>130303.310000</td>\n",
       "      <td>839.37000</td>\n",
       "      <td>13.989500</td>\n",
       "      <td>0.233158</td>\n",
       "      <td>0.440000</td>\n",
       "      <td>0.470000</td>\n",
       "      <td>13.970000</td>\n",
       "      <td>0.99</td>\n",
       "      <td>0.880000</td>\n",
       "      <td>0.410000</td>\n",
       "      <td>0.040000</td>\n",
       "      <td>123.517140</td>\n",
       "    </tr>\n",
       "    <tr>\n",
       "      <th>std</th>\n",
       "      <td>5.159789e+07</td>\n",
       "      <td>1.701615e+06</td>\n",
       "      <td>97917.697648</td>\n",
       "      <td>228.22918</td>\n",
       "      <td>3.803820</td>\n",
       "      <td>0.063397</td>\n",
       "      <td>0.498888</td>\n",
       "      <td>0.501614</td>\n",
       "      <td>3.817702</td>\n",
       "      <td>0.10</td>\n",
       "      <td>0.326599</td>\n",
       "      <td>0.494311</td>\n",
       "      <td>0.196946</td>\n",
       "      <td>51.597894</td>\n",
       "    </tr>\n",
       "    <tr>\n",
       "      <th>min</th>\n",
       "      <td>4.114869e+07</td>\n",
       "      <td>1.240570e+06</td>\n",
       "      <td>30945.000000</td>\n",
       "      <td>295.00000</td>\n",
       "      <td>4.916667</td>\n",
       "      <td>0.081944</td>\n",
       "      <td>0.000000</td>\n",
       "      <td>0.000000</td>\n",
       "      <td>5.000000</td>\n",
       "      <td>0.00</td>\n",
       "      <td>0.000000</td>\n",
       "      <td>0.000000</td>\n",
       "      <td>0.000000</td>\n",
       "      <td>41.148686</td>\n",
       "    </tr>\n",
       "    <tr>\n",
       "      <th>25%</th>\n",
       "      <td>9.198210e+07</td>\n",
       "      <td>2.663371e+06</td>\n",
       "      <td>81896.250000</td>\n",
       "      <td>704.00000</td>\n",
       "      <td>11.733333</td>\n",
       "      <td>0.195556</td>\n",
       "      <td>0.000000</td>\n",
       "      <td>0.000000</td>\n",
       "      <td>12.000000</td>\n",
       "      <td>1.00</td>\n",
       "      <td>1.000000</td>\n",
       "      <td>0.000000</td>\n",
       "      <td>0.000000</td>\n",
       "      <td>91.982096</td>\n",
       "    </tr>\n",
       "    <tr>\n",
       "      <th>50%</th>\n",
       "      <td>1.177169e+08</td>\n",
       "      <td>3.357315e+06</td>\n",
       "      <td>109988.000000</td>\n",
       "      <td>841.00000</td>\n",
       "      <td>14.016667</td>\n",
       "      <td>0.233611</td>\n",
       "      <td>0.000000</td>\n",
       "      <td>0.000000</td>\n",
       "      <td>14.000000</td>\n",
       "      <td>1.00</td>\n",
       "      <td>1.000000</td>\n",
       "      <td>0.000000</td>\n",
       "      <td>0.000000</td>\n",
       "      <td>117.716871</td>\n",
       "    </tr>\n",
       "    <tr>\n",
       "      <th>75%</th>\n",
       "      <td>1.479530e+08</td>\n",
       "      <td>4.130260e+06</td>\n",
       "      <td>147747.000000</td>\n",
       "      <td>947.25000</td>\n",
       "      <td>15.787500</td>\n",
       "      <td>0.263125</td>\n",
       "      <td>1.000000</td>\n",
       "      <td>1.000000</td>\n",
       "      <td>16.000000</td>\n",
       "      <td>1.00</td>\n",
       "      <td>1.000000</td>\n",
       "      <td>1.000000</td>\n",
       "      <td>0.000000</td>\n",
       "      <td>147.953023</td>\n",
       "    </tr>\n",
       "    <tr>\n",
       "      <th>max</th>\n",
       "      <td>3.637002e+08</td>\n",
       "      <td>1.545707e+07</td>\n",
       "      <td>742651.000000</td>\n",
       "      <td>1680.00000</td>\n",
       "      <td>28.000000</td>\n",
       "      <td>0.466667</td>\n",
       "      <td>1.000000</td>\n",
       "      <td>1.000000</td>\n",
       "      <td>28.000000</td>\n",
       "      <td>1.00</td>\n",
       "      <td>1.000000</td>\n",
       "      <td>1.000000</td>\n",
       "      <td>1.000000</td>\n",
       "      <td>363.700221</td>\n",
       "    </tr>\n",
       "  </tbody>\n",
       "</table>\n",
       "</div>"
      ],
      "text/plain": [
       "          viewCount     likeCount   commentCount     seconds     minutes  \\\n",
       "count  1.000000e+02  1.000000e+02     100.000000   100.00000  100.000000   \n",
       "mean   1.235171e+08  3.531127e+06  130303.310000   839.37000   13.989500   \n",
       "std    5.159789e+07  1.701615e+06   97917.697648   228.22918    3.803820   \n",
       "min    4.114869e+07  1.240570e+06   30945.000000   295.00000    4.916667   \n",
       "25%    9.198210e+07  2.663371e+06   81896.250000   704.00000   11.733333   \n",
       "50%    1.177169e+08  3.357315e+06  109988.000000   841.00000   14.016667   \n",
       "75%    1.479530e+08  4.130260e+06  147747.000000   947.25000   15.787500   \n",
       "max    3.637002e+08  1.545707e+07  742651.000000  1680.00000   28.000000   \n",
       "\n",
       "            hours  I_is_first_in_title  money_in_title  minutes_round  \\\n",
       "count  100.000000           100.000000      100.000000     100.000000   \n",
       "mean     0.233158             0.440000        0.470000      13.970000   \n",
       "std      0.063397             0.498888        0.501614       3.817702   \n",
       "min      0.081944             0.000000        0.000000       5.000000   \n",
       "25%      0.195556             0.000000        0.000000      12.000000   \n",
       "50%      0.233611             0.000000        0.000000      14.000000   \n",
       "75%      0.263125             1.000000        1.000000      16.000000   \n",
       "max      0.466667             1.000000        1.000000      28.000000   \n",
       "\n",
       "       longer_than_5_mins  longer_than_10_mins  longer_than_15_mins  \\\n",
       "count              100.00           100.000000           100.000000   \n",
       "mean                 0.99             0.880000             0.410000   \n",
       "std                  0.10             0.326599             0.494311   \n",
       "min                  0.00             0.000000             0.000000   \n",
       "25%                  1.00             1.000000             0.000000   \n",
       "50%                  1.00             1.000000             0.000000   \n",
       "75%                  1.00             1.000000             1.000000   \n",
       "max                  1.00             1.000000             1.000000   \n",
       "\n",
       "       longer_than_20_mins  viewCountMillions  \n",
       "count           100.000000         100.000000  \n",
       "mean              0.040000         123.517140  \n",
       "std               0.196946          51.597894  \n",
       "min               0.000000          41.148686  \n",
       "25%               0.000000          91.982096  \n",
       "50%               0.000000         117.716871  \n",
       "75%               0.000000         147.953023  \n",
       "max               1.000000         363.700221  "
      ]
     },
     "execution_count": 9,
     "metadata": {},
     "output_type": "execute_result"
    }
   ],
   "source": [
    "df.describe()"
   ]
  },
  {
   "cell_type": "code",
   "execution_count": 10,
   "metadata": {},
   "outputs": [],
   "source": [
    "# for item in df.title:\n",
    "#     print(item)"
   ]
  },
  {
   "attachments": {},
   "cell_type": "markdown",
   "metadata": {},
   "source": [
    "### View Count Corr"
   ]
  },
  {
   "cell_type": "code",
   "execution_count": 11,
   "metadata": {},
   "outputs": [
    {
     "name": "stderr",
     "output_type": "stream",
     "text": [
      "C:\\Users\\fligo\\AppData\\Local\\Temp\\ipykernel_19144\\3459983835.py:1: FutureWarning: The default value of numeric_only in DataFrame.corr is deprecated. In a future version, it will default to False. Select only valid columns or specify the value of numeric_only to silence this warning.\n",
      "  df.corr()['viewCount']\n"
     ]
    },
    {
     "data": {
      "text/plain": [
       "viewCount              1.000000\n",
       "likeCount              0.704373\n",
       "commentCount           0.386983\n",
       "seconds                0.281784\n",
       "minutes                0.281784\n",
       "hours                  0.281784\n",
       "I_is_first_in_title    0.044535\n",
       "money_in_title         0.057862\n",
       "minutes_round          0.285173\n",
       "longer_than_5_mins     0.069478\n",
       "longer_than_10_mins    0.097250\n",
       "longer_than_15_mins    0.225321\n",
       "longer_than_20_mins    0.160854\n",
       "viewCountMillions      1.000000\n",
       "Name: viewCount, dtype: float64"
      ]
     },
     "execution_count": 11,
     "metadata": {},
     "output_type": "execute_result"
    }
   ],
   "source": [
    "df.corr()['viewCount']"
   ]
  },
  {
   "attachments": {},
   "cell_type": "markdown",
   "metadata": {},
   "source": [
    "### Max Views Per Grouping of Times"
   ]
  },
  {
   "cell_type": "code",
   "execution_count": 16,
   "metadata": {},
   "outputs": [
    {
     "name": "stdout",
     "output_type": "stream",
     "text": [
      "longer_than_5_mins\n",
      "0     88.026277\n",
      "1    123.875633\n",
      "Name: viewCountMillions, dtype: float64\n",
      "longer_than_10_mins\n",
      "0    109.996686\n",
      "1    125.360838\n",
      "Name: viewCountMillions, dtype: float64\n",
      "longer_than_15_mins\n",
      "0    113.874024\n",
      "1    137.393818\n",
      "Name: viewCountMillions, dtype: float64\n",
      "longer_than_20_mins\n",
      "0    121.831460\n",
      "1    163.973444\n",
      "Name: viewCountMillions, dtype: float64\n",
      "\n",
      "-----------\n",
      "\n",
      "longer_than_5_mins\n",
      "0     88.026277\n",
      "1    118.715528\n",
      "Name: viewCountMillions, dtype: float64\n",
      "longer_than_10_mins\n",
      "0    109.305624\n",
      "1    120.879370\n",
      "Name: viewCountMillions, dtype: float64\n",
      "longer_than_15_mins\n",
      "0    110.063355\n",
      "1    125.842936\n",
      "Name: viewCountMillions, dtype: float64\n",
      "longer_than_20_mins\n",
      "0    117.716871\n",
      "1    122.997366\n",
      "Name: viewCountMillions, dtype: float64\n"
     ]
    }
   ],
   "source": [
    "print(df.groupby('longer_than_5_mins')['viewCountMillions'].mean())\n",
    "print(df.groupby('longer_than_10_mins')['viewCountMillions'].mean())\n",
    "print(df.groupby('longer_than_15_mins')['viewCountMillions'].mean())\n",
    "print(df.groupby('longer_than_20_mins')['viewCountMillions'].mean())\n",
    "print()\n",
    "print('-----------')\n",
    "print()\n",
    "print(df.groupby('longer_than_5_mins')['viewCountMillions'].median())\n",
    "print(df.groupby('longer_than_10_mins')['viewCountMillions'].median())\n",
    "print(df.groupby('longer_than_15_mins')['viewCountMillions'].median())\n",
    "print(df.groupby('longer_than_20_mins')['viewCountMillions'].median())"
   ]
  },
  {
   "cell_type": "code",
   "execution_count": null,
   "metadata": {},
   "outputs": [],
   "source": []
  },
  {
   "cell_type": "code",
   "execution_count": 14,
   "metadata": {},
   "outputs": [
    {
     "name": "stderr",
     "output_type": "stream",
     "text": [
      "C:\\Users\\fligo\\AppData\\Local\\Temp\\ipykernel_19144\\1750051436.py:1: FutureWarning: The default value of numeric_only in DataFrameGroupBy.mean is deprecated. In a future version, numeric_only will default to False. Either specify numeric_only or select only columns which should be valid for the function.\n",
      "  df.groupby('I_is_first_in_title').mean()['viewCount']\n"
     ]
    },
    {
     "data": {
      "text/plain": [
       "I_is_first_in_title\n",
       "0    1.214905e+08\n",
       "1    1.260965e+08\n",
       "Name: viewCount, dtype: float64"
      ]
     },
     "execution_count": 14,
     "metadata": {},
     "output_type": "execute_result"
    }
   ],
   "source": [
    "df.groupby('I_is_first_in_title').mean()['viewCount']"
   ]
  },
  {
   "cell_type": "code",
   "execution_count": 18,
   "metadata": {},
   "outputs": [
    {
     "data": {
      "text/html": [
       "<div>\n",
       "<style scoped>\n",
       "    .dataframe tbody tr th:only-of-type {\n",
       "        vertical-align: middle;\n",
       "    }\n",
       "\n",
       "    .dataframe tbody tr th {\n",
       "        vertical-align: top;\n",
       "    }\n",
       "\n",
       "    .dataframe thead th {\n",
       "        text-align: right;\n",
       "    }\n",
       "</style>\n",
       "<table border=\"1\" class=\"dataframe\">\n",
       "  <thead>\n",
       "    <tr style=\"text-align: right;\">\n",
       "      <th></th>\n",
       "      <th>id</th>\n",
       "      <th>title</th>\n",
       "      <th>publishedAt</th>\n",
       "      <th>duration</th>\n",
       "      <th>viewCount</th>\n",
       "      <th>likeCount</th>\n",
       "      <th>commentCount</th>\n",
       "      <th>seconds</th>\n",
       "      <th>minutes</th>\n",
       "      <th>hours</th>\n",
       "      <th>I_is_first_in_title</th>\n",
       "      <th>money_in_title</th>\n",
       "      <th>minutes_round</th>\n",
       "      <th>longer_than_5_mins</th>\n",
       "      <th>longer_than_10_mins</th>\n",
       "      <th>longer_than_15_mins</th>\n",
       "      <th>longer_than_20_mins</th>\n",
       "      <th>viewCountMillions</th>\n",
       "    </tr>\n",
       "  </thead>\n",
       "  <tbody>\n",
       "    <tr>\n",
       "      <th>25</th>\n",
       "      <td>0e3GPea1Tyg</td>\n",
       "      <td>$456,000 Squid Game In Real Life!</td>\n",
       "      <td>2021-11-24 21:00:01+00:00</td>\n",
       "      <td>PT25M42S</td>\n",
       "      <td>363700221</td>\n",
       "      <td>15457066</td>\n",
       "      <td>615989</td>\n",
       "      <td>1542</td>\n",
       "      <td>25.700000</td>\n",
       "      <td>0.428333</td>\n",
       "      <td>0</td>\n",
       "      <td>1</td>\n",
       "      <td>26.0</td>\n",
       "      <td>1</td>\n",
       "      <td>1</td>\n",
       "      <td>1</td>\n",
       "      <td>1</td>\n",
       "      <td>363.700221</td>\n",
       "    </tr>\n",
       "    <tr>\n",
       "      <th>152</th>\n",
       "      <td>zxYjTTXc-J8</td>\n",
       "      <td>Last To Leave Circle Wins $500,000</td>\n",
       "      <td>2021-08-31 20:01:03+00:00</td>\n",
       "      <td>PT19M26S</td>\n",
       "      <td>260584348</td>\n",
       "      <td>5502711</td>\n",
       "      <td>115988</td>\n",
       "      <td>1166</td>\n",
       "      <td>19.433333</td>\n",
       "      <td>0.323889</td>\n",
       "      <td>0</td>\n",
       "      <td>1</td>\n",
       "      <td>19.0</td>\n",
       "      <td>1</td>\n",
       "      <td>1</td>\n",
       "      <td>1</td>\n",
       "      <td>0</td>\n",
       "      <td>260.584348</td>\n",
       "    </tr>\n",
       "    <tr>\n",
       "      <th>113</th>\n",
       "      <td>r7zJ8srwwjk</td>\n",
       "      <td>I Spent 50 Hours In Solitary Confinement</td>\n",
       "      <td>2020-05-30 20:10:08+00:00</td>\n",
       "      <td>PT15M52S</td>\n",
       "      <td>242695381</td>\n",
       "      <td>4146292</td>\n",
       "      <td>114679</td>\n",
       "      <td>952</td>\n",
       "      <td>15.866667</td>\n",
       "      <td>0.264444</td>\n",
       "      <td>1</td>\n",
       "      <td>0</td>\n",
       "      <td>16.0</td>\n",
       "      <td>1</td>\n",
       "      <td>1</td>\n",
       "      <td>1</td>\n",
       "      <td>0</td>\n",
       "      <td>242.695381</td>\n",
       "    </tr>\n",
       "    <tr>\n",
       "      <th>141</th>\n",
       "      <td>9bqk6ZUsKyA</td>\n",
       "      <td>I Spent 50 Hours Buried Alive</td>\n",
       "      <td>2021-03-27 20:00:04+00:00</td>\n",
       "      <td>PT12M40S</td>\n",
       "      <td>238479763</td>\n",
       "      <td>7048626</td>\n",
       "      <td>247758</td>\n",
       "      <td>760</td>\n",
       "      <td>12.666667</td>\n",
       "      <td>0.211111</td>\n",
       "      <td>1</td>\n",
       "      <td>0</td>\n",
       "      <td>13.0</td>\n",
       "      <td>1</td>\n",
       "      <td>1</td>\n",
       "      <td>0</td>\n",
       "      <td>0</td>\n",
       "      <td>238.479763</td>\n",
       "    </tr>\n",
       "    <tr>\n",
       "      <th>130</th>\n",
       "      <td>GLoeAJUcz38</td>\n",
       "      <td>Press This Button To Win $100,000!</td>\n",
       "      <td>2020-11-14 21:00:02+00:00</td>\n",
       "      <td>PT15M11S</td>\n",
       "      <td>223524870</td>\n",
       "      <td>3714846</td>\n",
       "      <td>91075</td>\n",
       "      <td>911</td>\n",
       "      <td>15.183333</td>\n",
       "      <td>0.253056</td>\n",
       "      <td>0</td>\n",
       "      <td>1</td>\n",
       "      <td>15.0</td>\n",
       "      <td>1</td>\n",
       "      <td>1</td>\n",
       "      <td>1</td>\n",
       "      <td>0</td>\n",
       "      <td>223.524870</td>\n",
       "    </tr>\n",
       "    <tr>\n",
       "      <th>21</th>\n",
       "      <td>yXWw0_UfSFg</td>\n",
       "      <td>Anything You Can Fit In The Circle I’ll Pay For</td>\n",
       "      <td>2020-03-07 21:00:00+00:00</td>\n",
       "      <td>PT20M</td>\n",
       "      <td>205218227</td>\n",
       "      <td>4467947</td>\n",
       "      <td>114113</td>\n",
       "      <td>1200</td>\n",
       "      <td>20.000000</td>\n",
       "      <td>0.333333</td>\n",
       "      <td>0</td>\n",
       "      <td>0</td>\n",
       "      <td>20.0</td>\n",
       "      <td>1</td>\n",
       "      <td>1</td>\n",
       "      <td>1</td>\n",
       "      <td>0</td>\n",
       "      <td>205.218227</td>\n",
       "    </tr>\n",
       "  </tbody>\n",
       "</table>\n",
       "</div>"
      ],
      "text/plain": [
       "              id                                            title  \\\n",
       "25   0e3GPea1Tyg                $456,000 Squid Game In Real Life!   \n",
       "152  zxYjTTXc-J8               Last To Leave Circle Wins $500,000   \n",
       "113  r7zJ8srwwjk         I Spent 50 Hours In Solitary Confinement   \n",
       "141  9bqk6ZUsKyA                    I Spent 50 Hours Buried Alive   \n",
       "130  GLoeAJUcz38               Press This Button To Win $100,000!   \n",
       "21   yXWw0_UfSFg  Anything You Can Fit In The Circle I’ll Pay For   \n",
       "\n",
       "                  publishedAt  duration  viewCount  likeCount  commentCount  \\\n",
       "25  2021-11-24 21:00:01+00:00  PT25M42S  363700221   15457066        615989   \n",
       "152 2021-08-31 20:01:03+00:00  PT19M26S  260584348    5502711        115988   \n",
       "113 2020-05-30 20:10:08+00:00  PT15M52S  242695381    4146292        114679   \n",
       "141 2021-03-27 20:00:04+00:00  PT12M40S  238479763    7048626        247758   \n",
       "130 2020-11-14 21:00:02+00:00  PT15M11S  223524870    3714846         91075   \n",
       "21  2020-03-07 21:00:00+00:00     PT20M  205218227    4467947        114113   \n",
       "\n",
       "     seconds    minutes     hours  I_is_first_in_title  money_in_title  \\\n",
       "25      1542  25.700000  0.428333                    0               1   \n",
       "152     1166  19.433333  0.323889                    0               1   \n",
       "113      952  15.866667  0.264444                    1               0   \n",
       "141      760  12.666667  0.211111                    1               0   \n",
       "130      911  15.183333  0.253056                    0               1   \n",
       "21      1200  20.000000  0.333333                    0               0   \n",
       "\n",
       "     minutes_round  longer_than_5_mins  longer_than_10_mins  \\\n",
       "25            26.0                   1                    1   \n",
       "152           19.0                   1                    1   \n",
       "113           16.0                   1                    1   \n",
       "141           13.0                   1                    1   \n",
       "130           15.0                   1                    1   \n",
       "21            20.0                   1                    1   \n",
       "\n",
       "     longer_than_15_mins  longer_than_20_mins  viewCountMillions  \n",
       "25                     1                    1         363.700221  \n",
       "152                    1                    0         260.584348  \n",
       "113                    1                    0         242.695381  \n",
       "141                    0                    0         238.479763  \n",
       "130                    1                    0         223.524870  \n",
       "21                     1                    0         205.218227  "
      ]
     },
     "execution_count": 18,
     "metadata": {},
     "output_type": "execute_result"
    }
   ],
   "source": [
    "df[df['viewCount']>200000000].sort_values(by='viewCount',ascending=False)"
   ]
  },
  {
   "cell_type": "code",
   "execution_count": null,
   "metadata": {},
   "outputs": [],
   "source": []
  },
  {
   "attachments": {},
   "cell_type": "markdown",
   "metadata": {},
   "source": [
    "# What Time Does He Post"
   ]
  },
  {
   "cell_type": "code",
   "execution_count": 19,
   "metadata": {},
   "outputs": [
    {
     "data": {
      "text/plain": [
       "175   2023-01-28 21:00:00+00:00\n",
       "174   2022-12-24 20:59:59+00:00\n",
       "173   2022-12-10 21:00:01+00:00\n",
       "172   2022-12-03 21:00:00+00:00\n",
       "171   2022-11-12 21:00:00+00:00\n",
       "                 ...           \n",
       "85    2019-10-12 20:10:01+00:00\n",
       "84    2019-10-05 20:00:08+00:00\n",
       "83    2019-09-28 20:29:58+00:00\n",
       "82    2019-09-21 21:00:00+00:00\n",
       "81    2019-09-13 20:00:05+00:00\n",
       "Name: publishedAt, Length: 100, dtype: datetime64[ns, tzutc()]"
      ]
     },
     "execution_count": 19,
     "metadata": {},
     "output_type": "execute_result"
    }
   ],
   "source": [
    "df['publishedAt']"
   ]
  },
  {
   "cell_type": "code",
   "execution_count": 20,
   "metadata": {},
   "outputs": [
    {
     "data": {
      "text/plain": [
       "2023-02-19 20:00:00    39\n",
       "2023-02-19 21:00:00    37\n",
       "2023-02-19 19:59:00     5\n",
       "2023-02-19 21:01:00     2\n",
       "2023-02-19 20:59:00     2\n",
       "2023-02-19 20:10:00     2\n",
       "2023-02-19 20:40:00     1\n",
       "2023-02-19 20:06:00     1\n",
       "2023-02-19 19:01:00     1\n",
       "2023-02-19 21:11:00     1\n",
       "2023-02-19 01:36:00     1\n",
       "2023-02-19 22:00:00     1\n",
       "2023-02-19 00:19:00     1\n",
       "2023-02-19 20:17:00     1\n",
       "2023-02-19 23:00:00     1\n",
       "2023-02-19 20:01:00     1\n",
       "2023-02-19 21:30:00     1\n",
       "2023-02-19 20:02:00     1\n",
       "2023-02-19 20:29:00     1\n",
       "Name: publishedAtTime, dtype: int64"
      ]
     },
     "execution_count": 20,
     "metadata": {},
     "output_type": "execute_result"
    }
   ],
   "source": [
    "df['publishedAtTime'] = df['publishedAt'].dt.strftime('%H:%M')\n",
    "df['publishedAtTime'] = df['publishedAtTime'].apply(lambda x: parser.parse(x))\n",
    "df['publishedAtTime'].value_counts()\n"
   ]
  },
  {
   "cell_type": "code",
   "execution_count": 22,
   "metadata": {},
   "outputs": [],
   "source": [
    "time_dict = {}\n",
    "# for item in range(0,23,1):\n",
    "#     time_dict[item]=list()\n",
    "\n",
    "for item in range(0,24,1):\n",
    "    next_item_num = item+1\n",
    "    if item == 9:\n",
    "        item = f'0{item}'\n",
    "        next_item_num = f'{next_item_num}'\n",
    "    elif item < 10:\n",
    "        item = f'0{item}'\n",
    "        next_item_num = f'0{next_item_num}'\n",
    "    elif item == 23:\n",
    "        item = f'{item}'\n",
    "        next_item_num = f'{2359}'\n",
    "    else:\n",
    "        item = f'{item}'\n",
    "        next_item_num = f'{next_item_num}'\n",
    "    #print(f'Time Range {item} - {next_item_num}')\n",
    "    curr_time = parser.parse(f'2023-01-01-{item}').time()\n",
    "    next_time = parser.parse(f'2023-01-01-{next_item_num}').time()\n",
    "    #print(len(df[(df['publishedAtTime'].dt.time>=curr_time)&(df['publishedAtTime'].dt.time<next_time)]['publishedAtTime']))\n",
    "    num_videos =  len(df[(df['publishedAtTime'].dt.time>=curr_time)&(df['publishedAtTime'].dt.time<next_time)]['publishedAtTime'])\n",
    "    if num_videos < 1:\n",
    "        num_videos = 0\n",
    "    time_dict[item] = num_videos"
   ]
  },
  {
   "cell_type": "code",
   "execution_count": 23,
   "metadata": {},
   "outputs": [
    {
     "data": {
      "text/plain": [
       "{'00': 1,\n",
       " '01': 1,\n",
       " '02': 0,\n",
       " '03': 0,\n",
       " '04': 0,\n",
       " '05': 0,\n",
       " '06': 0,\n",
       " '07': 0,\n",
       " '08': 0,\n",
       " '09': 0,\n",
       " '10': 0,\n",
       " '11': 0,\n",
       " '12': 0,\n",
       " '13': 0,\n",
       " '14': 0,\n",
       " '15': 0,\n",
       " '16': 0,\n",
       " '17': 0,\n",
       " '18': 0,\n",
       " '19': 6,\n",
       " '20': 49,\n",
       " '21': 41,\n",
       " '22': 1,\n",
       " '23': 1}"
      ]
     },
     "execution_count": 23,
     "metadata": {},
     "output_type": "execute_result"
    }
   ],
   "source": [
    "time_dict"
   ]
  },
  {
   "attachments": {},
   "cell_type": "markdown",
   "metadata": {},
   "source": [
    "**Posts from 1-4 but mostly 3-4**\n",
    "\n",
    "3 pm - (46) (39+5+1+1)  \n",
    "4 pm - (42) (37+2+2+1)    \n",
    "In Between 3-4pm - 6 (2+1+1+1+1)  \n",
    "Past 4 - 2 (1+1)  \n",
    "\n",
    "01:36 pm - 1\n",
    "11 pm - 1\n",
    "7pm - 1\n",
    "19m am\n",
    "\n",
    "\n",
    "94 of last 100 videos posted from 8-9 pm\n",
    "\n",
    "   \n",
    "\n"
   ]
  },
  {
   "attachments": {},
   "cell_type": "markdown",
   "metadata": {},
   "source": [
    "### Duration vs View Count"
   ]
  },
  {
   "cell_type": "code",
   "execution_count": null,
   "metadata": {},
   "outputs": [],
   "source": [
    "#plt.scatter(df['minutes'],df['viewCountMillions'],c=df['publishedAt'],cmap='RdYlGn')\n",
    "plt.scatter(df['minutes'],df['viewCountMillions'],c='blue')\n",
    "\n",
    "plt.xlabel('Duration (Minutes)')\n",
    "plt.ylabel('View Count (Millions)')\n",
    "plt.title('Duration vs View Count \\n (Last 100 Video >4 Mins)')\n",
    "plt.savefig('images/duration_vs_view_count.jpg')"
   ]
  },
  {
   "attachments": {},
   "cell_type": "markdown",
   "metadata": {},
   "source": [
    "#### Like Count Ratio\n",
    "\n",
    "Like Ratio = Like Count / View Count, this means 8% of all viewers clicked the like button. 8/100 = 2/25 = 1/12.5 = 1 in ever 13 people liked the video"
   ]
  },
  {
   "cell_type": "code",
   "execution_count": 24,
   "metadata": {},
   "outputs": [
    {
     "data": {
      "text/html": [
       "<div>\n",
       "<style scoped>\n",
       "    .dataframe tbody tr th:only-of-type {\n",
       "        vertical-align: middle;\n",
       "    }\n",
       "\n",
       "    .dataframe tbody tr th {\n",
       "        vertical-align: top;\n",
       "    }\n",
       "\n",
       "    .dataframe thead th {\n",
       "        text-align: right;\n",
       "    }\n",
       "</style>\n",
       "<table border=\"1\" class=\"dataframe\">\n",
       "  <thead>\n",
       "    <tr style=\"text-align: right;\">\n",
       "      <th></th>\n",
       "      <th>id</th>\n",
       "      <th>title</th>\n",
       "      <th>publishedAt</th>\n",
       "      <th>duration</th>\n",
       "      <th>viewCount</th>\n",
       "      <th>likeCount</th>\n",
       "      <th>commentCount</th>\n",
       "      <th>seconds</th>\n",
       "      <th>minutes</th>\n",
       "      <th>hours</th>\n",
       "      <th>I_is_first_in_title</th>\n",
       "      <th>money_in_title</th>\n",
       "      <th>minutes_round</th>\n",
       "      <th>longer_than_5_mins</th>\n",
       "      <th>longer_than_10_mins</th>\n",
       "      <th>longer_than_15_mins</th>\n",
       "      <th>longer_than_20_mins</th>\n",
       "      <th>viewCountMillions</th>\n",
       "      <th>like_ratio</th>\n",
       "    </tr>\n",
       "  </thead>\n",
       "  <tbody>\n",
       "    <tr>\n",
       "      <th>175</th>\n",
       "      <td>TJ2ifmkGGus</td>\n",
       "      <td>1,000 Blind People See For The First Time</td>\n",
       "      <td>2023-01-28 21:00:00+00:00</td>\n",
       "      <td>PT8M1S</td>\n",
       "      <td>104049678</td>\n",
       "      <td>8340630</td>\n",
       "      <td>350173</td>\n",
       "      <td>481</td>\n",
       "      <td>8.016667</td>\n",
       "      <td>0.133611</td>\n",
       "      <td>0</td>\n",
       "      <td>0</td>\n",
       "      <td>8.0</td>\n",
       "      <td>1</td>\n",
       "      <td>0</td>\n",
       "      <td>0</td>\n",
       "      <td>0</td>\n",
       "      <td>104.049678</td>\n",
       "      <td>0.080160</td>\n",
       "    </tr>\n",
       "    <tr>\n",
       "      <th>135</th>\n",
       "      <td>PKtnafFtfEo</td>\n",
       "      <td>Youtube Rewind 2020, Thank God It's Over</td>\n",
       "      <td>2021-01-01 21:00:03+00:00</td>\n",
       "      <td>PT6M31S</td>\n",
       "      <td>66315350</td>\n",
       "      <td>4981323</td>\n",
       "      <td>290182</td>\n",
       "      <td>391</td>\n",
       "      <td>6.516667</td>\n",
       "      <td>0.108611</td>\n",
       "      <td>0</td>\n",
       "      <td>0</td>\n",
       "      <td>7.0</td>\n",
       "      <td>1</td>\n",
       "      <td>0</td>\n",
       "      <td>0</td>\n",
       "      <td>0</td>\n",
       "      <td>66.315350</td>\n",
       "      <td>0.075116</td>\n",
       "    </tr>\n",
       "    <tr>\n",
       "      <th>138</th>\n",
       "      <td>_uwNDiU04zE</td>\n",
       "      <td>If You Press This, I’ll Pay...</td>\n",
       "      <td>2021-02-13 21:00:01+00:00</td>\n",
       "      <td>PT11M5S</td>\n",
       "      <td>50040241</td>\n",
       "      <td>2946173</td>\n",
       "      <td>152907</td>\n",
       "      <td>665</td>\n",
       "      <td>11.083333</td>\n",
       "      <td>0.184722</td>\n",
       "      <td>1</td>\n",
       "      <td>0</td>\n",
       "      <td>11.0</td>\n",
       "      <td>1</td>\n",
       "      <td>1</td>\n",
       "      <td>0</td>\n",
       "      <td>0</td>\n",
       "      <td>50.040241</td>\n",
       "      <td>0.058876</td>\n",
       "    </tr>\n",
       "    <tr>\n",
       "      <th>156</th>\n",
       "      <td>cV2gBU6hKfY</td>\n",
       "      <td>I Cleaned The World’s Dirtiest Beach #TeamSeas</td>\n",
       "      <td>2021-10-29 19:59:43+00:00</td>\n",
       "      <td>PT4M55S</td>\n",
       "      <td>88026277</td>\n",
       "      <td>5074704</td>\n",
       "      <td>179391</td>\n",
       "      <td>295</td>\n",
       "      <td>4.916667</td>\n",
       "      <td>0.081944</td>\n",
       "      <td>1</td>\n",
       "      <td>0</td>\n",
       "      <td>5.0</td>\n",
       "      <td>0</td>\n",
       "      <td>0</td>\n",
       "      <td>0</td>\n",
       "      <td>0</td>\n",
       "      <td>88.026277</td>\n",
       "      <td>0.057650</td>\n",
       "    </tr>\n",
       "    <tr>\n",
       "      <th>124</th>\n",
       "      <td>TDiXxsQ0w2Q</td>\n",
       "      <td>Why I Haven’t Been Uploading</td>\n",
       "      <td>2020-09-17 20:00:05+00:00</td>\n",
       "      <td>PT6M22S</td>\n",
       "      <td>46487008</td>\n",
       "      <td>2529796</td>\n",
       "      <td>98603</td>\n",
       "      <td>382</td>\n",
       "      <td>6.366667</td>\n",
       "      <td>0.106111</td>\n",
       "      <td>0</td>\n",
       "      <td>0</td>\n",
       "      <td>6.0</td>\n",
       "      <td>1</td>\n",
       "      <td>0</td>\n",
       "      <td>0</td>\n",
       "      <td>0</td>\n",
       "      <td>46.487008</td>\n",
       "      <td>0.054419</td>\n",
       "    </tr>\n",
       "  </tbody>\n",
       "</table>\n",
       "</div>"
      ],
      "text/plain": [
       "              id                                           title  \\\n",
       "175  TJ2ifmkGGus       1,000 Blind People See For The First Time   \n",
       "135  PKtnafFtfEo        Youtube Rewind 2020, Thank God It's Over   \n",
       "138  _uwNDiU04zE                  If You Press This, I’ll Pay...   \n",
       "156  cV2gBU6hKfY  I Cleaned The World’s Dirtiest Beach #TeamSeas   \n",
       "124  TDiXxsQ0w2Q                    Why I Haven’t Been Uploading   \n",
       "\n",
       "                  publishedAt duration  viewCount  likeCount  commentCount  \\\n",
       "175 2023-01-28 21:00:00+00:00   PT8M1S  104049678    8340630        350173   \n",
       "135 2021-01-01 21:00:03+00:00  PT6M31S   66315350    4981323        290182   \n",
       "138 2021-02-13 21:00:01+00:00  PT11M5S   50040241    2946173        152907   \n",
       "156 2021-10-29 19:59:43+00:00  PT4M55S   88026277    5074704        179391   \n",
       "124 2020-09-17 20:00:05+00:00  PT6M22S   46487008    2529796         98603   \n",
       "\n",
       "     seconds    minutes     hours  I_is_first_in_title  money_in_title  \\\n",
       "175      481   8.016667  0.133611                    0               0   \n",
       "135      391   6.516667  0.108611                    0               0   \n",
       "138      665  11.083333  0.184722                    1               0   \n",
       "156      295   4.916667  0.081944                    1               0   \n",
       "124      382   6.366667  0.106111                    0               0   \n",
       "\n",
       "     minutes_round  longer_than_5_mins  longer_than_10_mins  \\\n",
       "175            8.0                   1                    0   \n",
       "135            7.0                   1                    0   \n",
       "138           11.0                   1                    1   \n",
       "156            5.0                   0                    0   \n",
       "124            6.0                   1                    0   \n",
       "\n",
       "     longer_than_15_mins  longer_than_20_mins  viewCountMillions  like_ratio  \n",
       "175                    0                    0         104.049678    0.080160  \n",
       "135                    0                    0          66.315350    0.075116  \n",
       "138                    0                    0          50.040241    0.058876  \n",
       "156                    0                    0          88.026277    0.057650  \n",
       "124                    0                    0          46.487008    0.054419  "
      ]
     },
     "execution_count": 24,
     "metadata": {},
     "output_type": "execute_result"
    }
   ],
   "source": [
    "df.sort_values(by='like_ratio',ascending=False).head()"
   ]
  },
  {
   "cell_type": "code",
   "execution_count": 21,
   "metadata": {},
   "outputs": [
    {
     "data": {
      "text/plain": [
       "<matplotlib.collections.PathCollection at 0x25f76070fa0>"
      ]
     },
     "execution_count": 21,
     "metadata": {},
     "output_type": "execute_result"
    },
    {
     "data": {
      "image/png": "[encoded data removed]",
      "text/plain": [
       "<Figure size 640x480 with 1 Axes>"
      ]
     },
     "metadata": {},
     "output_type": "display_data"
    }
   ],
   "source": [
    "plt.scatter(df['like_ratio'],df['viewCountMillions'])"
   ]
  },
  {
   "attachments": {},
   "cell_type": "markdown",
   "metadata": {},
   "source": [
    "### Testing last 20 videos"
   ]
  },
  {
   "cell_type": "code",
   "execution_count": null,
   "metadata": {},
   "outputs": [],
   "source": [
    "#test = df[(df['minutes']>15)&(df['minutes']<20)]\n",
    "last_20 = df.sort_values(by='publishedAt')\n",
    "last_20['last_20'] = [1]*20 + [0]*80\n",
    "last_20 = last_20[last_20['last_20']==1]"
   ]
  },
  {
   "attachments": {},
   "cell_type": "markdown",
   "metadata": {},
   "source": [
    "### Seeing if last 20 videos show any changes being made"
   ]
  },
  {
   "cell_type": "code",
   "execution_count": null,
   "metadata": {},
   "outputs": [],
   "source": [
    "plt.scatter(last_20['minutes'],last_20['viewCountMillions'])\n",
    "#plt.scatter(test['minutes'],test['viewCountMillions'],c='blue')\n",
    "\n",
    "plt.xlabel('Duration (Minutes)')\n",
    "plt.ylabel('View Count (Millions)')\n",
    "plt.title('Duration vs View Count \\n (Last 100 Video >4 Mins)')\n",
    "#plt.savefig('images/duration_vs_view_count.jpg')"
   ]
  },
  {
   "attachments": {},
   "cell_type": "markdown",
   "metadata": {},
   "source": [
    "Can definitley see a tendency to go for longer videos"
   ]
  },
  {
   "cell_type": "code",
   "execution_count": null,
   "metadata": {},
   "outputs": [],
   "source": [
    "#plt.scatter(df['minutes'],df['viewCountMillions'],c=df['publishedAt'],cmap='RdYlGn')\n",
    "plt.scatter(df['minutes'],df['viewCountMillions'],c='blue')\n",
    "\n",
    "plt.xlabel('Duration (Minutes)')\n",
    "plt.ylabel('View Count (Millions)')\n",
    "plt.title('Duration vs View Count \\n (Last 100 Video >4 Mins)')\n",
    "plt.savefig('images/duration_vs_view_count.jpg')"
   ]
  },
  {
   "attachments": {},
   "cell_type": "markdown",
   "metadata": {},
   "source": [
    "### Box Plots to see if means go up"
   ]
  },
  {
   "cell_type": "code",
   "execution_count": null,
   "metadata": {},
   "outputs": [],
   "source": [
    "avg_count_time_duration = {}\n",
    "fig = plt.figure()\n",
    "ax = plt.subplot(111)\n",
    "for a in range(3,30,1):\n",
    "    curr_df = df[(df['minutes']>a)&(df['minutes']<(a+1))]\n",
    "    if len(curr_df)!=0:\n",
    "        print(f\"{a}-{a+1} : {len(curr_df)}\")\n",
    "        ax.boxplot(curr_df['viewCountMillions'], positions = [a])\n",
    "    #plt.boxplot(curr_df['viewCount'])\n",
    "    #plt.show()\n",
    "    #median_count\n",
    "    #avg_count_time_duration[b] = avg_count\n",
    "    # if avg_count>0:\n",
    "    #     print(f\"Between {a} and {b} minutes : {avg_count}\")\n",
    "ax.set_title('View Duration vs View Count')\n",
    "ax.set_xlabel('Video Duration (Minutes)')\n",
    "ax.set_ylabel('View Count (Millions)')\n",
    "plt.savefig('images\\\\boxplot_view_times.jpg')"
   ]
  },
  {
   "attachments": {},
   "cell_type": "markdown",
   "metadata": {},
   "source": [
    "### Average View Count per grouping of videos\n",
    "Videos grouped by how many minutes (rounded) they are"
   ]
  },
  {
   "cell_type": "code",
   "execution_count": null,
   "metadata": {},
   "outputs": [],
   "source": [
    "avg_count_time_duration = {}\n",
    "fig = plt.figure()\n",
    "ax = plt.subplot(111)\n",
    "for a in range(3,30,1):\n",
    "    curr_mean = df[(df['minutes']>a)&(df['minutes']<(a+1))]['viewCount'].mean()\n",
    "    ax.scatter(a+1,curr_mean,color='blue')\n",
    "ax.set_title('View Duration vs View Count')\n",
    "ax.set_xlabel('Video Duration (Minutes)')\n",
    "ax.set_ylabel('View Count (Millions)')"
   ]
  },
  {
   "cell_type": "code",
   "execution_count": null,
   "metadata": {},
   "outputs": [],
   "source": [
    "df.minutes.min()"
   ]
  },
  {
   "cell_type": "code",
   "execution_count": null,
   "metadata": {},
   "outputs": [],
   "source": []
  },
  {
   "attachments": {},
   "cell_type": "markdown",
   "metadata": {},
   "source": [
    "### Graph to show how APV depends on Length"
   ]
  },
  {
   "cell_type": "code",
   "execution_count": null,
   "metadata": {},
   "outputs": [],
   "source": [
    "x = list(range(1,20,1))\n",
    "y = [(0.16666667/x)*100 for x in x]\n",
    "markers_on = [0,9]\n",
    "plt.plot(x,y,'-bD',markevery=markers_on, color='blue')\n",
    "plt.title('APV vs Length of Video \\n(Assuming 10 second view time)')\n",
    "plt.ylabel('APV (%)')\n",
    "plt.xlabel('Length of Video (Minutes)')\n",
    "plt.xticks(range(0,20,2));"
   ]
  },
  {
   "attachments": {},
   "cell_type": "markdown",
   "metadata": {},
   "source": [
    "## View Count vs Likes"
   ]
  },
  {
   "cell_type": "code",
   "execution_count": null,
   "metadata": {},
   "outputs": [],
   "source": [
    "plt.scatter(df['viewCountMillions'],df['likeCount'])"
   ]
  },
  {
   "cell_type": "code",
   "execution_count": null,
   "metadata": {},
   "outputs": [],
   "source": [
    "last_100 = df.sort_values(by='publishedAt').iloc[:,0:100]"
   ]
  },
  {
   "cell_type": "code",
   "execution_count": null,
   "metadata": {},
   "outputs": [],
   "source": [
    "plt.scatter(last_100['publishedAt'],last_100['minutes'])"
   ]
  },
  {
   "cell_type": "code",
   "execution_count": null,
   "metadata": {},
   "outputs": [],
   "source": [
    "last_100['minutes'].describe()"
   ]
  },
  {
   "cell_type": "code",
   "execution_count": null,
   "metadata": {},
   "outputs": [],
   "source": [
    "print(last_100['minutes'].sort_values().iloc[9])\n",
    "print(last_100['minutes'].sort_values().iloc[89])\n",
    "#print(last_100['minutes'].sort_values())\n",
    "print(len(last_100[(last_100['minutes']>11)&(last_100['minutes']<16)]))\n"
   ]
  },
  {
   "attachments": {},
   "cell_type": "markdown",
   "metadata": {},
   "source": [
    "60 of last 100 videos were in between 11 and 16 minutes"
   ]
  },
  {
   "attachments": {},
   "cell_type": "markdown",
   "metadata": {},
   "source": [
    "## "
   ]
  },
  {
   "cell_type": "code",
   "execution_count": null,
   "metadata": {},
   "outputs": [],
   "source": [
    "last_100['I_is_first_in_title'].value_counts()"
   ]
  },
  {
   "cell_type": "code",
   "execution_count": null,
   "metadata": {},
   "outputs": [],
   "source": [
    "last_100['money_in_title'].value_counts()"
   ]
  },
  {
   "cell_type": "code",
   "execution_count": null,
   "metadata": {},
   "outputs": [],
   "source": [
    "last_100"
   ]
  },
  {
   "attachments": {},
   "cell_type": "markdown",
   "metadata": {},
   "source": [
    "# Model Building for Feature Importance\n",
    "This may give us an idea of what correlates most with a higher view count."
   ]
  },
  {
   "cell_type": "code",
   "execution_count": null,
   "metadata": {},
   "outputs": [],
   "source": [
    "!pip install scikit-learn"
   ]
  },
  {
   "cell_type": "code",
   "execution_count": null,
   "metadata": {},
   "outputs": [],
   "source": [
    "import numpy as np\n",
    "from sklearn.linear_model import LinearRegression\n",
    "X = df[['seconds','I_is_first_in_title','money_in_title','longer_than_5_mins','longer_than_10_mins','longer_than_15_mins','longer_than_20_mins']]\n",
    "# y = 1 * x_0 + 2 * x_1 + 3\n",
    "y = df['viewCount']\n",
    "reg = LinearRegression().fit(X, y)\n",
    "reg.score(X, y)\n",
    "\n",
    "reg.coef_\n",
    "\n",
    "reg.intercept_\n"
   ]
  },
  {
   "cell_type": "code",
   "execution_count": null,
   "metadata": {},
   "outputs": [],
   "source": [
    "for a,b in zip(X,reg.coef_):\n",
    "    print(a,b)"
   ]
  },
  {
   "cell_type": "code",
   "execution_count": null,
   "metadata": {},
   "outputs": [],
   "source": []
  }
 ],
 "metadata": {
  "kernelspec": {
   "display_name": "Python 3",
   "language": "python",
   "name": "python3"
  },
  "language_info": {
   "codemirror_mode": {
    "name": "ipython",
    "version": 3
   },
   "file_extension": ".py",
   "mimetype": "text/x-python",
   "name": "python",
   "nbconvert_exporter": "python",
   "pygments_lexer": "ipython3",
   "version": "3.9.13"
  },
  "orig_nbformat": 4,
  "vscode": {
   "interpreter": {
    "hash": "70f9c32967fb33f3823b8d7f5601daa442546b38ccf06ae11297afe8c6a15b40"
   }
  }
 },
 "nbformat": 4,
 "nbformat_minor": 2
}
