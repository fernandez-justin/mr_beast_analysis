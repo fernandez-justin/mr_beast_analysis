{
 "cells": [
  {
   "cell_type": "code",
   "execution_count": 34,
   "metadata": {},
   "outputs": [
    {
     "name": "stdout",
     "output_type": "stream",
     "text": [
      "Would You Swim With Sharks For $100,000?\n",
      "Would YOU Quit School For $100,000?\n",
      "Would You Sit In Snakes For $10,000?\n",
      "Would You Rather Have A Giant Diamond or $100,000?\n",
      "Would YOU Rather Have A Lamborghini or This House?\n",
      "Would You Rather Have $100,000 OR This Mystery Key?\n",
      "Can 50,000 Magnets Catch A Cannon Ball?\n"
     ]
    }
   ],
   "source": [
    "import json\n",
    "import requests\n",
    "from PIL import Image\n",
    "# Open the JSON file for reading\n",
    "files = [\n",
    "    '..\\\\video_api_data_full\\\\video_id_pull_medium_1_50.json'\n",
    "    , '..\\\\video_api_data_full\\\\video_id_pull_medium_51_100.json'\n",
    "    , '..\\\\video_api_data_full\\\\video_id_pull_medium_101_150.json'\n",
    "]\n",
    "\n",
    "counter = 1\n",
    "for file in files:\n",
    "    with open(file, 'r') as file:\n",
    "        # Load the contents of the file into a Python object\n",
    "        data = json.load(file)\n",
    "\n",
    "    # Print the contents of the object\n",
    "    for item in data['items']:\n",
    "        try:\n",
    "            #print(item['snippet']['title'])\n",
    "            url = item['snippet']['thumbnails']['high']['url']\n",
    "            response = requests.get(url)\n",
    "            with open(f\"..\\\\images\\\\thumbnails\\\\{item['snippet']['title']} thumbnail.jpg\", \"wb\") as f:\n",
    "                f.write(response.content)\n",
    "            #print(counter,end=' ')\n",
    "            #print(url)\n",
    "            counter+=1\n",
    "        except:\n",
    "            print(item['snippet']['title'])\n",
    "\n"
   ]
  },
  {
   "cell_type": "code",
   "execution_count": null,
   "metadata": {},
   "outputs": [],
   "source": []
  }
 ],
 "metadata": {
  "kernelspec": {
   "display_name": "Python 3",
   "language": "python",
   "name": "python3"
  },
  "language_info": {
   "codemirror_mode": {
    "name": "ipython",
    "version": 3
   },
   "file_extension": ".py",
   "mimetype": "text/x-python",
   "name": "python",
   "nbconvert_exporter": "python",
   "pygments_lexer": "ipython3",
   "version": "3.9.13"
  },
  "orig_nbformat": 4,
  "vscode": {
   "interpreter": {
    "hash": "70f9c32967fb33f3823b8d7f5601daa442546b38ccf06ae11297afe8c6a15b40"
   }
  }
 },
 "nbformat": 4,
 "nbformat_minor": 2
}
